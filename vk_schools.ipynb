{
  "nbformat": 4,
  "nbformat_minor": 0,
  "metadata": {
    "colab": {
      "name": "vk_schools.ipynb",
      "provenance": [],
      "collapsed_sections": []
    },
    "kernelspec": {
      "name": "python3",
      "display_name": "Python 3"
    }
  },
  "cells": [
    {
      "cell_type": "code",
      "metadata": {
        "id": "LcsqthGZwZQ8",
        "colab_type": "code",
        "outputId": "7ca42528-f821-4327-9016-f5448393eb01",
        "colab": {
          "base_uri": "https://localhost:8080/",
          "height": 128
        }
      },
      "source": [
        "from google.colab import drive\n",
        "drive.mount('/content/gdrive')"
      ],
      "execution_count": 0,
      "outputs": [
        {
          "output_type": "stream",
          "text": [
            "Go to this URL in a browser: https://accounts.google.com/o/oauth2/auth?client_id=947318989803-6bn6qk8qdgf4n4g3pfee6491hc0brc4i.apps.googleusercontent.com&redirect_uri=urn%3aietf%3awg%3aoauth%3a2.0%3aoob&response_type=code&scope=email%20https%3a%2f%2fwww.googleapis.com%2fauth%2fdocs.test%20https%3a%2f%2fwww.googleapis.com%2fauth%2fdrive%20https%3a%2f%2fwww.googleapis.com%2fauth%2fdrive.photos.readonly%20https%3a%2f%2fwww.googleapis.com%2fauth%2fpeopleapi.readonly\n",
            "\n",
            "Enter your authorization code:\n",
            "··········\n",
            "Mounted at /content/gdrive\n"
          ],
          "name": "stdout"
        }
      ]
    },
    {
      "cell_type": "code",
      "metadata": {
        "id": "YWIpaTvdvntx",
        "colab_type": "code",
        "colab": {}
      },
      "source": [
        "import sqlite3\n",
        "from sqlite3 import Error\n",
        "\n",
        "def sql_connection():\n",
        "    try:\n",
        "        con = sqlite3.connect('/content/gdrive/My Drive/study/bermuda/schools_postsv4.db')\n",
        "        return con\n",
        "    except Error:\n",
        "        print(Error)\n",
        "\n",
        "def sql_table(con):\n",
        "    cursorObj = con.cursor()\n",
        "    cursorObj.execute(\"\"\"CREATE TABLE schools(id integer PRIMARY KEY, school text, post text, photo integer, audio integer, video integer, link integer, \n",
        "                        poll integer, views integer, comments integer, likes integer, share integer, total_action integer, date text)\"\"\")\n",
        "    con.commit()\n",
        "\n",
        "con = sql_connection()\n",
        "sql_table(con)"
      ],
      "execution_count": 0,
      "outputs": []
    },
    {
      "cell_type": "markdown",
      "metadata": {
        "id": "jGOAvpeUnB-a",
        "colab_type": "text"
      },
      "source": [
        "\\begin{array}{ccccccccccccccc}\n",
        "\\id&school&post&\\#photo&\\#audio&\\#video&\\#link&\\#poll&\\#views&\\#comments&\\#likes&\\#share&\\#total action&date\\\\\n",
        "\\end{array}\n",
        "\n"
      ]
    },
    {
      "cell_type": "markdown",
      "metadata": {
        "id": "ldmqYj_wg1q9",
        "colab_type": "text"
      },
      "source": [
        ""
      ]
    },
    {
      "cell_type": "markdown",
      "metadata": {
        "id": "UY71Byuh0dmq",
        "colab_type": "text"
      },
      "source": [
        "* https://vk.com/schoolhate32 62229681\n",
        "* https://vk.com/podslushano35nino 67729104\n",
        "* https://vk.com/podslushanoekx 128947958\n",
        "* https://vk.com/podslushano186 64295890\n",
        "* https://vk.com/schoolnn48 62572739\n",
        "* https://vk.com/public118977064 118977064\n",
        "* https://vk.com/podslushka11school 187280208\n",
        "* https://vk.com/gimnazizvestnoushkoly 62006725"
      ]
    },
    {
      "cell_type": "code",
      "metadata": {
        "id": "YH5g_PGSb3CT",
        "colab_type": "code",
        "colab": {}
      },
      "source": [
        "import time\n",
        "import requests\n",
        "from datetime import datetime"
      ],
      "execution_count": 0,
      "outputs": []
    },
    {
      "cell_type": "code",
      "metadata": {
        "id": "uTh4vaLUcFpD",
        "colab_type": "code",
        "colab": {}
      },
      "source": [
        "id_group = 'gimnazizvestnoushkoly'\n",
        "owner_id = -62006725\n",
        "count_posts = 5000\n",
        "token = '7e60bcdb7e60bcdb7e60bcdbdc7e0efd6777e607e60bcdb23bfd3275905af708d45ec93'  "
      ],
      "execution_count": 0,
      "outputs": []
    },
    {
      "cell_type": "code",
      "metadata": {
        "id": "38KaU1Ld8tG4",
        "colab_type": "code",
        "outputId": "c12a3dac-3906-4bd8-fec3-2bb4bfad56d3",
        "colab": {
          "base_uri": "https://localhost:8080/",
          "height": 925
        }
      },
      "source": [
        "offset = 0 \n",
        "count = 100      # не изменять\n",
        "data_posts = []\n",
        "\n",
        "while offset < count_posts:\n",
        "\n",
        "    url = 'https://api.vk.com/method/wall.get'\n",
        "    params = {\n",
        "        'domain': id_group,\n",
        "        'filter': 'all',\n",
        "        'count': count,\n",
        "        'offset': offset,\n",
        "        'access_token': token,\n",
        "        'owner_id' : owner_id,\n",
        "        'v': 5.73\n",
        "    }\n",
        "    \n",
        "    r = requests.get(url, params = params).json()\n",
        "    \n",
        "    # check = True\n",
        "    # if check:\n",
        "    #     real_count = r['response']['count']\n",
        "    #     if real_count < count_posts:\n",
        "    #         count_posts = real_count\n",
        "    #         check = False\n",
        "    #     else:\n",
        "    #         check = False\n",
        "    \n",
        "    data_posts += r['response']['items'] \n",
        "    offset += count\n",
        "    print(offset)    \n",
        "    time.sleep(0.5)"
      ],
      "execution_count": 0,
      "outputs": [
        {
          "output_type": "stream",
          "text": [
            "100\n",
            "200\n",
            "300\n",
            "400\n",
            "500\n",
            "600\n",
            "700\n",
            "800\n",
            "900\n",
            "1000\n",
            "1100\n",
            "1200\n",
            "1300\n",
            "1400\n",
            "1500\n",
            "1600\n",
            "1700\n",
            "1800\n",
            "1900\n",
            "2000\n",
            "2100\n",
            "2200\n",
            "2300\n",
            "2400\n",
            "2500\n",
            "2600\n",
            "2700\n",
            "2800\n",
            "2900\n",
            "3000\n",
            "3100\n",
            "3200\n",
            "3300\n",
            "3400\n",
            "3500\n",
            "3600\n",
            "3700\n",
            "3800\n",
            "3900\n",
            "4000\n",
            "4100\n",
            "4200\n",
            "4300\n",
            "4400\n",
            "4500\n",
            "4600\n",
            "4700\n",
            "4800\n",
            "4900\n",
            "5000\n"
          ],
          "name": "stdout"
        }
      ]
    },
    {
      "cell_type": "code",
      "metadata": {
        "id": "NBcwq_S99lm9",
        "colab_type": "code",
        "outputId": "b3d16b32-7a67-41b5-b665-e01def5dc388",
        "colab": {
          "base_uri": "https://localhost:8080/",
          "height": 108
        }
      },
      "source": [
        "stats = []\n",
        "n = 0\n",
        "for record in data_posts:   \n",
        "    post = record['text']\n",
        "    n+=1\n",
        "    date = datetime.fromtimestamp(record['date']).strftime('%Y-%m-%d')\n",
        "    \n",
        "    attachment = {'photo' :0, 'audio' :0, 'video': 0 , 'link': 0, 'poll': 0}            #список из типов вложений. Я использовал самые популярные , если у вас другие типы вложений вы можете добавить их в список.\n",
        "        \n",
        "    if 'attachments' in record:                                                          #цикл для подсчета типов и кол-ва вложений\n",
        "        for attach in record['attachments']:\n",
        "            if attach ['type'] in attachment:\n",
        "                attachment[attach['type']] = attachment[attach['type']] + 1       \n",
        "        \n",
        "    if 'views' in record:\n",
        "        views = record['views']['count']\n",
        "    else:\n",
        "        views = 0 \n",
        "    #количество реакций на пост вообще - как индикатор популярности поста\n",
        "    total_actions = record['comments']['count'] + record['likes']['count'] + record['reposts']['count']\n",
        "    stats.append((post, attachment['photo'], attachment['audio'], attachment['video'], attachment['link'], attachment['poll'], views , record['comments']['count'], record['likes']['count'], record['reposts']['count'], total_actions, date))\n",
        "    if n % 1000 == 0:\n",
        "        print(n)"
      ],
      "execution_count": 0,
      "outputs": [
        {
          "output_type": "stream",
          "text": [
            "1000\n",
            "2000\n",
            "3000\n",
            "4000\n",
            "5000\n"
          ],
          "name": "stdout"
        }
      ]
    },
    {
      "cell_type": "code",
      "metadata": {
        "id": "fEc_WxYV0-au",
        "colab_type": "code",
        "outputId": "171dcf85-0f8e-43e2-cffd-6a5f49212c00",
        "colab": {
          "base_uri": "https://localhost:8080/",
          "height": 255
        }
      },
      "source": [
        "stats[-1]"
      ],
      "execution_count": 0,
      "outputs": [
        {
          "output_type": "execute_result",
          "data": {
            "text/plain": [
              "('Ну знате-ли я из 8 и не считаю себя глупой,на счёт 6 и7 это да и прошу перестаньте писать про трошина и катю на это всем пофиг. И 8 классы считаются старшеклассниками вообще-то!!!!!',\n",
              " 0,\n",
              " 0,\n",
              " 0,\n",
              " 0,\n",
              " 0,\n",
              " 0,\n",
              " 7,\n",
              " 4,\n",
              " 0,\n",
              " 11,\n",
              " '2014-01-21')"
            ]
          },
          "metadata": {
            "tags": []
          },
          "execution_count": 65
        }
      ]
    },
    {
      "cell_type": "code",
      "metadata": {
        "id": "BaYH8OgR1BeU",
        "colab_type": "code",
        "outputId": "d2ea874d-18a0-4159-9bb6-47de592b93ef",
        "colab": {
          "base_uri": "https://localhost:8080/",
          "height": 235
        }
      },
      "source": [
        "stats[1]"
      ],
      "execution_count": 0,
      "outputs": [
        {
          "output_type": "execute_result",
          "data": {
            "text/plain": [
              "('Что за инцедент с девочкой которую пырнули канцелярским ножом?',\n",
              " 0,\n",
              " 0,\n",
              " 0,\n",
              " 0,\n",
              " 0,\n",
              " 532,\n",
              " 2,\n",
              " 2,\n",
              " 0,\n",
              " 4,\n",
              " '2019-10-03')"
            ]
          },
          "metadata": {
            "tags": []
          },
          "execution_count": 66
        }
      ]
    },
    {
      "cell_type": "code",
      "metadata": {
        "id": "gPeCeFmJRjrl",
        "colab_type": "code",
        "outputId": "88d473ef-33bb-47e8-eb9f-66e6c3a90fdd",
        "colab": {
          "base_uri": "https://localhost:8080/",
          "height": 35
        }
      },
      "source": [
        "len(data_posts)"
      ],
      "execution_count": 0,
      "outputs": [
        {
          "output_type": "execute_result",
          "data": {
            "text/plain": [
              "5000"
            ]
          },
          "metadata": {
            "tags": []
          },
          "execution_count": 67
        }
      ]
    },
    {
      "cell_type": "code",
      "metadata": {
        "id": "_lM30oLdwQXF",
        "colab_type": "code",
        "colab": {}
      },
      "source": [
        "import sqlite3\n",
        "\n",
        "con = sqlite3.connect('/content/gdrive/My Drive/study/bermuda/schools_postsv4.db')\n",
        "\n",
        "\n",
        "def sql_insert(con, entities):\n",
        "    cursorObj = con.cursor()\n",
        "\n",
        "    cursorObj.execute('''INSERT INTO schools(id, school, post, photo, audio, video, link, poll, views, comments, \n",
        "                        likes, share, total_action, date) VALUES(?, ?, ?, ?, ?, ?, ?, ?, ?, ?, ?, ?, ?, ?)''', entities)\n",
        "    con.commit()\n",
        "\n",
        "for i, info in enumerate(stats): \n",
        "    entities = (2323+3143+1017+1799+5000+1122+168+i, id_group) + info # обновлять i для новых районов\n",
        "    sql_insert(con, entities)"
      ],
      "execution_count": 0,
      "outputs": []
    },
    {
      "cell_type": "code",
      "metadata": {
        "id": "-1KJgUb3mdjo",
        "colab_type": "code",
        "colab": {}
      },
      "source": [
        "con.close()"
      ],
      "execution_count": 0,
      "outputs": []
    },
    {
      "cell_type": "code",
      "metadata": {
        "id": "FNhVMk_fVcYP",
        "colab_type": "code",
        "colab": {}
      },
      "source": [
        "con = sqlite3.connect('/content/gdrive/My Drive/study/bermuda/schools_postsv2.db') "
      ],
      "execution_count": 0,
      "outputs": []
    },
    {
      "cell_type": "code",
      "metadata": {
        "id": "ebKvh68Epyv5",
        "colab_type": "code",
        "colab": {}
      },
      "source": [
        "data = []\n",
        "with con:    \n",
        "    cur = con.cursor()    \n",
        "    cur.execute(\"SELECT * FROM schools\")\n",
        "    rows = cur.fetchall()\n",
        " \n",
        "    for row in rows:\n",
        "        data.append(row)"
      ],
      "execution_count": 0,
      "outputs": []
    },
    {
      "cell_type": "code",
      "metadata": {
        "id": "zAZOlBt_p129",
        "colab_type": "code",
        "outputId": "e2ac3209-82ea-42e8-f1d6-3043b99cd3d0",
        "colab": {
          "base_uri": "https://localhost:8080/",
          "height": 274
        }
      },
      "source": [
        "data[-1]"
      ],
      "execution_count": 0,
      "outputs": [
        {
          "output_type": "execute_result",
          "data": {
            "text/plain": [
              "(26121,\n",
              " 'public118977064',\n",
              " 'Привет, дорогие ученики школы 174!\\nЭто новое подслушано, поскольку старое потерялось и вот так мы создали это :)\\nНаш аск: https://ask.fm/podslushka174',\n",
              " 0,\n",
              " 0,\n",
              " 0,\n",
              " 0,\n",
              " 0,\n",
              " 0,\n",
              " 0,\n",
              " 15,\n",
              " 0,\n",
              " 15,\n",
              " '2016-04-07')"
            ]
          },
          "metadata": {
            "tags": []
          },
          "execution_count": 65
        }
      ]
    },
    {
      "cell_type": "code",
      "metadata": {
        "id": "ZaLoWsTap58N",
        "colab_type": "code",
        "colab": {}
      },
      "source": [
        ""
      ],
      "execution_count": 0,
      "outputs": []
    }
  ]
}