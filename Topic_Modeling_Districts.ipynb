{
  "nbformat": 4,
  "nbformat_minor": 0,
  "metadata": {
    "colab": {
      "name": "Topic Modeling Districts.ipynb",
      "provenance": [],
      "collapsed_sections": [],
      "authorship_tag": "ABX9TyPlF574FoKIK3zskURir9Xg"
    },
    "kernelspec": {
      "name": "python3",
      "display_name": "Python 3"
    },
    "accelerator": "GPU"
  },
  "cells": [
    {
      "cell_type": "code",
      "metadata": {
        "id": "9fhxfFNFv1NS",
        "colab_type": "code",
        "outputId": "c1a8851c-6754-4c3e-b03a-b9c2405cc390",
        "colab": {
          "base_uri": "https://localhost:8080/",
          "height": 36
        }
      },
      "source": [
        "from google.colab import drive\n",
        "drive.mount('/content/gdrive')"
      ],
      "execution_count": 172,
      "outputs": [
        {
          "output_type": "stream",
          "text": [
            "Drive already mounted at /content/gdrive; to attempt to forcibly remount, call drive.mount(\"/content/gdrive\", force_remount=True).\n"
          ],
          "name": "stdout"
        }
      ]
    },
    {
      "cell_type": "code",
      "metadata": {
        "id": "65JWvRt7v7NV",
        "colab_type": "code",
        "colab": {}
      },
      "source": [
        "import sqlite3\n",
        "\n",
        "con = sqlite3.connect('/content/gdrive/My Drive/study/bermuda/dCleaned.db')"
      ],
      "execution_count": 0,
      "outputs": []
    },
    {
      "cell_type": "code",
      "metadata": {
        "id": "gg_ND6qsxMhH",
        "colab_type": "code",
        "colab": {}
      },
      "source": [
        "data = []\n",
        "with con:    \n",
        "    cur = con.cursor()    \n",
        "    cur.execute(\"SELECT * FROM districts\")\n",
        "    rows = cur.fetchall()\n",
        " \n",
        "    for row in rows:\n",
        "        data.append(row)"
      ],
      "execution_count": 0,
      "outputs": []
    },
    {
      "cell_type": "code",
      "metadata": {
        "id": "2mxxwFEsxPu4",
        "colab_type": "code",
        "outputId": "fa0084ea-0d8e-4aa1-96fd-d30f23650de6",
        "colab": {
          "base_uri": "https://localhost:8080/",
          "height": 295
        }
      },
      "source": [
        "data[0]"
      ],
      "execution_count": 175,
      "outputs": [
        {
          "output_type": "execute_result",
          "data": {
            "text/plain": [
              "(550,\n",
              " 'автозавод',\n",
              " 'Если кто-то найдет сережку, верните, пожалуйста, очень дорога как память 😭',\n",
              " 'найдет вернуть пожалуйста очень дорога память',\n",
              " 1,\n",
              " 0,\n",
              " 0,\n",
              " 0,\n",
              " 0,\n",
              " 3735,\n",
              " 0,\n",
              " 7,\n",
              " 2,\n",
              " 9,\n",
              " '2019-08-30')"
            ]
          },
          "metadata": {
            "tags": []
          },
          "execution_count": 175
        }
      ]
    },
    {
      "cell_type": "code",
      "metadata": {
        "id": "lKIBX5PvZJjc",
        "colab_type": "code",
        "outputId": "9730c24f-5e0a-4b7c-c352-d55a6721dc59",
        "colab": {
          "base_uri": "https://localhost:8080/",
          "height": 406
        }
      },
      "source": [
        "\n",
        "! pip install pyLDAvis\n",
        "import pyLDAvis\n",
        "import pyLDAvis.gensim\n",
        "import matplotlib.pyplot as plt\n",
        "%matplotlib inline"
      ],
      "execution_count": 176,
      "outputs": [
        {
          "output_type": "stream",
          "text": [
            "Requirement already satisfied: pyLDAvis in /usr/local/lib/python3.6/dist-packages (2.1.2)\n",
            "Requirement already satisfied: funcy in /usr/local/lib/python3.6/dist-packages (from pyLDAvis) (1.14)\n",
            "Requirement already satisfied: numpy>=1.9.2 in /usr/local/lib/python3.6/dist-packages (from pyLDAvis) (1.17.5)\n",
            "Requirement already satisfied: scipy>=0.18.0 in /usr/local/lib/python3.6/dist-packages (from pyLDAvis) (1.4.1)\n",
            "Requirement already satisfied: future in /usr/local/lib/python3.6/dist-packages (from pyLDAvis) (0.16.0)\n",
            "Requirement already satisfied: joblib>=0.8.4 in /usr/local/lib/python3.6/dist-packages (from pyLDAvis) (0.14.1)\n",
            "Requirement already satisfied: pytest in /usr/local/lib/python3.6/dist-packages (from pyLDAvis) (3.6.4)\n",
            "Requirement already satisfied: numexpr in /usr/local/lib/python3.6/dist-packages (from pyLDAvis) (2.7.1)\n",
            "Requirement already satisfied: wheel>=0.23.0 in /usr/local/lib/python3.6/dist-packages (from pyLDAvis) (0.34.2)\n",
            "Requirement already satisfied: jinja2>=2.7.2 in /usr/local/lib/python3.6/dist-packages (from pyLDAvis) (2.11.1)\n",
            "Requirement already satisfied: pandas>=0.17.0 in /usr/local/lib/python3.6/dist-packages (from pyLDAvis) (0.25.3)\n",
            "Requirement already satisfied: attrs>=17.4.0 in /usr/local/lib/python3.6/dist-packages (from pytest->pyLDAvis) (19.3.0)\n",
            "Requirement already satisfied: atomicwrites>=1.0 in /usr/local/lib/python3.6/dist-packages (from pytest->pyLDAvis) (1.3.0)\n",
            "Requirement already satisfied: six>=1.10.0 in /usr/local/lib/python3.6/dist-packages (from pytest->pyLDAvis) (1.12.0)\n",
            "Requirement already satisfied: pluggy<0.8,>=0.5 in /usr/local/lib/python3.6/dist-packages (from pytest->pyLDAvis) (0.7.1)\n",
            "Requirement already satisfied: py>=1.5.0 in /usr/local/lib/python3.6/dist-packages (from pytest->pyLDAvis) (1.8.1)\n",
            "Requirement already satisfied: setuptools in /usr/local/lib/python3.6/dist-packages (from pytest->pyLDAvis) (45.1.0)\n",
            "Requirement already satisfied: more-itertools>=4.0.0 in /usr/local/lib/python3.6/dist-packages (from pytest->pyLDAvis) (8.2.0)\n",
            "Requirement already satisfied: MarkupSafe>=0.23 in /usr/local/lib/python3.6/dist-packages (from jinja2>=2.7.2->pyLDAvis) (1.1.1)\n",
            "Requirement already satisfied: python-dateutil>=2.6.1 in /usr/local/lib/python3.6/dist-packages (from pandas>=0.17.0->pyLDAvis) (2.6.1)\n",
            "Requirement already satisfied: pytz>=2017.2 in /usr/local/lib/python3.6/dist-packages (from pandas>=0.17.0->pyLDAvis) (2018.9)\n"
          ],
          "name": "stdout"
        }
      ]
    },
    {
      "cell_type": "code",
      "metadata": {
        "id": "Ho9vxF2vliwH",
        "colab_type": "code",
        "colab": {}
      },
      "source": [
        "import re"
      ],
      "execution_count": 0,
      "outputs": []
    },
    {
      "cell_type": "code",
      "metadata": {
        "id": "lJoHyyuo8mj8",
        "colab_type": "code",
        "colab": {}
      },
      "source": [
        "from nltk.tokenize import WordPunctTokenizer\n",
        "tokenizer = WordPunctTokenizer()"
      ],
      "execution_count": 0,
      "outputs": []
    },
    {
      "cell_type": "code",
      "metadata": {
        "id": "ODNSP5ipPddn",
        "colab_type": "code",
        "colab": {}
      },
      "source": [
        "from gensim.models import CoherenceModel"
      ],
      "execution_count": 0,
      "outputs": []
    },
    {
      "cell_type": "code",
      "metadata": {
        "id": "IIOkQLQs-CRb",
        "colab_type": "code",
        "outputId": "cb07c946-94ba-4107-82c0-2c1a3613e3b4",
        "colab": {
          "base_uri": "https://localhost:8080/",
          "height": 54
        }
      },
      "source": [
        "import nltk\n",
        "nltk.download('stopwords')\n",
        "from nltk.corpus import stopwords\n",
        "stop_words = stopwords.words('russian')"
      ],
      "execution_count": 179,
      "outputs": [
        {
          "output_type": "stream",
          "text": [
            "[nltk_data] Downloading package stopwords to /root/nltk_data...\n",
            "[nltk_data]   Package stopwords is already up-to-date!\n"
          ],
          "name": "stdout"
        }
      ]
    },
    {
      "cell_type": "code",
      "metadata": {
        "id": "lhUem8i0kuwl",
        "colab_type": "code",
        "outputId": "89be7acc-516e-4893-b79d-22a896969e25",
        "colab": {
          "base_uri": "https://localhost:8080/",
          "height": 91
        }
      },
      "source": [
        "! pip install pymorphy2\n",
        "import pymorphy2 \n",
        "morph = pymorphy2.MorphAnalyzer()"
      ],
      "execution_count": 180,
      "outputs": [
        {
          "output_type": "stream",
          "text": [
            "Requirement already satisfied: pymorphy2 in /usr/local/lib/python3.6/dist-packages (0.8)\n",
            "Requirement already satisfied: docopt>=0.6 in /usr/local/lib/python3.6/dist-packages (from pymorphy2) (0.6.2)\n",
            "Requirement already satisfied: dawg-python>=0.7 in /usr/local/lib/python3.6/dist-packages (from pymorphy2) (0.7.2)\n",
            "Requirement already satisfied: pymorphy2-dicts<3.0,>=2.4 in /usr/local/lib/python3.6/dist-packages (from pymorphy2) (2.4.393442.3710985)\n"
          ],
          "name": "stdout"
        }
      ]
    },
    {
      "cell_type": "code",
      "metadata": {
        "id": "BFEbXkNfQW-3",
        "colab_type": "code",
        "colab": {}
      },
      "source": [
        "import gensim"
      ],
      "execution_count": 0,
      "outputs": []
    },
    {
      "cell_type": "code",
      "metadata": {
        "id": "I7Teh4iUmCQw",
        "colab_type": "code",
        "outputId": "7c3f2c4d-bc8d-40fa-a81a-f7ecc5bca09c",
        "colab": {
          "base_uri": "https://localhost:8080/",
          "height": 36
        }
      },
      "source": [
        "morph.parse('сережка')[0].normal_form"
      ],
      "execution_count": 182,
      "outputs": [
        {
          "output_type": "execute_result",
          "data": {
            "text/plain": [
              "'серёжка'"
            ]
          },
          "metadata": {
            "tags": []
          },
          "execution_count": 182
        }
      ]
    },
    {
      "cell_type": "code",
      "metadata": {
        "id": "qwHU3HlK49xt",
        "colab_type": "code",
        "colab": {}
      },
      "source": [
        "'''\n",
        "все районы\n",
        "'''\n",
        "\n",
        "cur_data = {}\n",
        "for i in data:\n",
        "    ind = i[0]\n",
        "    sent = i[2].lower()\n",
        "    tokens = [morph.parse(tok)[0].normal_form for tok in tokenizer.tokenize(sent) if tok.isalpha() and len(tok) > 2 and tok not in stop_words\n",
        "              and bool(re.match(r'[а-я]', tok)) and morph.parse(tok)[0].tag.POS not in ['NPRO', \"NUMR\", \"CONJ\", \"INTJ\", \"PRCL\", \"PREP\"]]\n",
        "    cur_data[ind] = tokens  "
      ],
      "execution_count": 0,
      "outputs": []
    },
    {
      "cell_type": "code",
      "metadata": {
        "id": "GXcD4lxmomzl",
        "colab_type": "code",
        "colab": {}
      },
      "source": [
        "\"\"\"\n",
        "Построить отдельно по данным каждого района. CUR_DATA на все данные, тут - на каждый район. Далее для объединения в \n",
        "биграммы надо будет менять переменную\n",
        "\n",
        "\"\"\"\n",
        "\n",
        "def singleout(name):\n",
        "    district = {}\n",
        "    for i in data:\n",
        "        if i[1] == name:\n",
        "            ind = i[0]\n",
        "            sent = i[2].lower()\n",
        "            tokens = [morph.parse(tok)[0].normal_form for tok in tokenizer.tokenize(sent) if tok.isalpha() and len(tok) > 2 and tok not in stop_words\n",
        "                    and bool(re.match(r'[а-я]', tok)) and morph.parse(tok)[0].tag.POS not in ['NPRO', \"NUMR\", \"CONJ\", \"INTJ\", \"PRCL\", \"PREP\"]]\n",
        "            district[ind] = tokens \n",
        "    return district\n",
        "\n",
        "avtaz = singleout('автозавод')\n",
        "priok = singleout('приокский')\n",
        "sor = singleout('сормово')"
      ],
      "execution_count": 0,
      "outputs": []
    },
    {
      "cell_type": "code",
      "metadata": {
        "id": "RqcrnXCD9L1H",
        "colab_type": "code",
        "colab": {}
      },
      "source": [
        "#cur_data = sor"
      ],
      "execution_count": 0,
      "outputs": []
    },
    {
      "cell_type": "code",
      "metadata": {
        "id": "vVtMQA2GQIOj",
        "colab_type": "code",
        "colab": {}
      },
      "source": [
        "data_words = list(cur_data.values())"
      ],
      "execution_count": 0,
      "outputs": []
    },
    {
      "cell_type": "code",
      "metadata": {
        "id": "M5ZXp0YwNazJ",
        "colab_type": "code",
        "colab": {}
      },
      "source": [
        "bigram = gensim.models.Phrases(data_words, min_count=100, threshold=100)"
      ],
      "execution_count": 0,
      "outputs": []
    },
    {
      "cell_type": "code",
      "metadata": {
        "id": "CLIghRIYQZ8n",
        "colab_type": "code",
        "colab": {}
      },
      "source": [
        "bigram_mod = gensim.models.phrases.Phraser(bigram)"
      ],
      "execution_count": 0,
      "outputs": []
    },
    {
      "cell_type": "code",
      "metadata": {
        "id": "kqSlgc5KQchf",
        "colab_type": "code",
        "colab": {}
      },
      "source": [
        "\n",
        "composed = {}\n",
        "for k, v in cur_data.items():\n",
        "    composed[k] = bigram_mod[v]"
      ],
      "execution_count": 0,
      "outputs": []
    },
    {
      "cell_type": "code",
      "metadata": {
        "id": "unQJh2OoQjXd",
        "colab_type": "code",
        "colab": {}
      },
      "source": [
        "id2word = gensim.corpora.Dictionary(composed.values())"
      ],
      "execution_count": 0,
      "outputs": []
    },
    {
      "cell_type": "code",
      "metadata": {
        "id": "WBJ1Xe8rVeEP",
        "colab_type": "code",
        "colab": {}
      },
      "source": [
        "\n",
        "corpus = [id2word.doc2bow(text) for text in composed.values()]"
      ],
      "execution_count": 0,
      "outputs": []
    },
    {
      "cell_type": "code",
      "metadata": {
        "id": "l3dhzjJdVs9R",
        "colab_type": "code",
        "colab": {}
      },
      "source": [
        "lda_model = gensim.models.ldamodel.LdaModel(corpus=corpus,\n",
        "                                           id2word=id2word,\n",
        "                                           num_topics=5,\n",
        "                                           random_state=42,\n",
        "                                           update_every=1,\n",
        "                                           chunksize=128, \n",
        "                                           passes=50,\n",
        "                                           alpha='auto',\n",
        "                                           per_word_topics=True)"
      ],
      "execution_count": 0,
      "outputs": []
    },
    {
      "cell_type": "code",
      "metadata": {
        "id": "5_pNi4xz0LYp",
        "colab_type": "code",
        "outputId": "e9596f93-83f1-47d6-96e8-a589290ec273",
        "colab": {
          "base_uri": "https://localhost:8080/",
          "height": 202
        }
      },
      "source": [
        "lda_model.print_topics()"
      ],
      "execution_count": 193,
      "outputs": [
        {
          "output_type": "execute_result",
          "data": {
            "text/plain": [
              "[(0,\n",
              "  '0.011*\"обучение\" + 0.011*\"рубль\" + 0.010*\"квартира\" + 0.009*\"магазин\" + 0.008*\"график\" + 0.008*\"вознаграждение\" + 0.008*\"снять\" + 0.007*\"наш\" + 0.006*\"вчера\" + 0.006*\"водитель\"'),\n",
              " (1,\n",
              "  '0.024*\"щербинка\" + 0.013*\"работа\" + 0.012*\"цена\" + 0.012*\"сормово\" + 0.008*\"требоваться\" + 0.008*\"гагарин\" + 0.006*\"купить\" + 0.005*\"самый\" + 0.004*\"завод\" + 0.004*\"заказ\"'),\n",
              " (2,\n",
              "  '0.019*\"найти\" + 0.016*\"район\" + 0.015*\"весь\" + 0.009*\"день\" + 0.009*\"писать\" + 0.008*\"улица\" + 0.008*\"год\" + 0.007*\"мочь\" + 0.006*\"человек\" + 0.006*\"телефон\"'),\n",
              " (3,\n",
              "  '0.021*\"год\" + 0.009*\"группа\" + 0.008*\"который\" + 0.006*\"нижний_новгород\" + 0.006*\"пост\" + 0.006*\"класс\" + 0.006*\"город\" + 0.005*\"наш\" + 0.005*\"дело\" + 0.005*\"подарок\"'),\n",
              " (4,\n",
              "  '0.020*\"дом\" + 0.018*\"очень\" + 0.010*\"девочка\" + 0.010*\"месяц\" + 0.009*\"добрый\" + 0.008*\"рука\" + 0.008*\"человек\" + 0.008*\"искать\" + 0.008*\"звонить\" + 0.007*\"хозяин\"')]"
            ]
          },
          "metadata": {
            "tags": []
          },
          "execution_count": 193
        }
      ]
    },
    {
      "cell_type": "code",
      "metadata": {
        "id": "mqxpibtcYTXM",
        "colab_type": "code",
        "colab": {
          "base_uri": "https://localhost:8080/",
          "height": 1000
        },
        "outputId": "9189acee-54dc-42e6-b311-784f3d2618d8"
      },
      "source": [
        "pyLDAvis.enable_notebook()\n",
        "vis = pyLDAvis.gensim.prepare(lda_model, corpus, id2word)\n",
        "vis"
      ],
      "execution_count": 165,
      "outputs": [
        {
          "output_type": "stream",
          "text": [
            "/usr/local/lib/python3.6/dist-packages/pyLDAvis/_prepare.py:257: FutureWarning: Sorting because non-concatenation axis is not aligned. A future version\n",
            "of pandas will change to not sort by default.\n",
            "\n",
            "To accept the future behavior, pass 'sort=False'.\n",
            "\n",
            "To retain the current behavior and silence the warning, pass 'sort=True'.\n",
            "\n",
            "  return pd.concat([default_term_info] + list(topic_dfs))\n"
          ],
          "name": "stderr"
        },
        {
          "output_type": "execute_result",
          "data": {
            "text/html": [
              "\n",
              "<link rel=\"stylesheet\" type=\"text/css\" href=\"https://cdn.rawgit.com/bmabey/pyLDAvis/files/ldavis.v1.0.0.css\">\n",
              "\n",
              "\n",
              "<div id=\"ldavis_el1261404862317187921446900804\"></div>\n",
              "<script type=\"text/javascript\">\n",
              "\n",
              "var ldavis_el1261404862317187921446900804_data = {\"mdsDat\": {\"x\": [-0.255374017176141, -0.16127680317850687, 0.06386586236321946, 0.1808631253859127, 0.1719218326055156], \"y\": [0.006309823865165043, 0.07661325440738505, -0.24439998545719666, 0.20295900053193258, -0.04148209334728607], \"topics\": [1, 2, 3, 4, 5], \"cluster\": [1, 1, 1, 1, 1], \"Freq\": [34.31890106201172, 25.633281707763672, 19.087852478027344, 10.949044227600098, 10.0109224319458]}, \"tinfo\": {\"Category\": [\"Default\", \"Default\", \"Default\", \"Default\", \"Default\", \"Default\", \"Default\", \"Default\", \"Default\", \"Default\", \"Default\", \"Default\", \"Default\", \"Default\", \"Default\", \"Default\", \"Default\", \"Default\", \"Default\", \"Default\", \"Default\", \"Default\", \"Default\", \"Default\", \"Default\", \"Default\", \"Default\", \"Default\", \"Default\", \"Default\", \"Topic1\", \"Topic1\", \"Topic1\", \"Topic1\", \"Topic1\", \"Topic1\", \"Topic1\", \"Topic1\", \"Topic1\", \"Topic1\", \"Topic1\", \"Topic1\", \"Topic1\", \"Topic1\", \"Topic1\", \"Topic1\", \"Topic1\", \"Topic1\", \"Topic1\", \"Topic1\", \"Topic1\", \"Topic1\", \"Topic1\", \"Topic1\", \"Topic1\", \"Topic1\", \"Topic1\", \"Topic1\", \"Topic1\", \"Topic1\", \"Topic1\", \"Topic1\", \"Topic1\", \"Topic1\", \"Topic1\", \"Topic1\", \"Topic1\", \"Topic1\", \"Topic1\", \"Topic1\", \"Topic1\", \"Topic1\", \"Topic1\", \"Topic1\", \"Topic1\", \"Topic1\", \"Topic1\", \"Topic1\", \"Topic1\", \"Topic1\", \"Topic1\", \"Topic2\", \"Topic2\", \"Topic2\", \"Topic2\", \"Topic2\", \"Topic2\", \"Topic2\", \"Topic2\", \"Topic2\", \"Topic2\", \"Topic2\", \"Topic2\", \"Topic2\", \"Topic2\", \"Topic2\", \"Topic2\", \"Topic2\", \"Topic2\", \"Topic2\", \"Topic2\", \"Topic2\", \"Topic2\", \"Topic2\", \"Topic2\", \"Topic2\", \"Topic2\", \"Topic2\", \"Topic2\", \"Topic2\", \"Topic2\", \"Topic2\", \"Topic2\", \"Topic2\", \"Topic2\", \"Topic2\", \"Topic2\", \"Topic2\", \"Topic2\", \"Topic2\", \"Topic2\", \"Topic2\", \"Topic2\", \"Topic2\", \"Topic2\", \"Topic2\", \"Topic2\", \"Topic2\", \"Topic2\", \"Topic3\", \"Topic3\", \"Topic3\", \"Topic3\", \"Topic3\", \"Topic3\", \"Topic3\", \"Topic3\", \"Topic3\", \"Topic3\", \"Topic3\", \"Topic3\", \"Topic3\", \"Topic3\", \"Topic3\", \"Topic3\", \"Topic3\", \"Topic3\", \"Topic3\", \"Topic3\", \"Topic3\", \"Topic3\", \"Topic3\", \"Topic3\", \"Topic3\", \"Topic3\", \"Topic3\", \"Topic3\", \"Topic3\", \"Topic3\", \"Topic3\", \"Topic3\", \"Topic3\", \"Topic3\", \"Topic3\", \"Topic3\", \"Topic3\", \"Topic3\", \"Topic3\", \"Topic3\", \"Topic3\", \"Topic3\", \"Topic3\", \"Topic3\", \"Topic3\", \"Topic3\", \"Topic3\", \"Topic4\", \"Topic4\", \"Topic4\", \"Topic4\", \"Topic4\", \"Topic4\", \"Topic4\", \"Topic4\", \"Topic4\", \"Topic4\", \"Topic4\", \"Topic4\", \"Topic4\", \"Topic4\", \"Topic4\", \"Topic4\", \"Topic4\", \"Topic4\", \"Topic4\", \"Topic4\", \"Topic4\", \"Topic4\", \"Topic4\", \"Topic4\", \"Topic4\", \"Topic4\", \"Topic4\", \"Topic4\", \"Topic4\", \"Topic4\", \"Topic4\", \"Topic4\", \"Topic4\", \"Topic4\", \"Topic4\", \"Topic4\", \"Topic4\", \"Topic4\", \"Topic5\", \"Topic5\", \"Topic5\", \"Topic5\", \"Topic5\", \"Topic5\", \"Topic5\", \"Topic5\", \"Topic5\", \"Topic5\", \"Topic5\", \"Topic5\", \"Topic5\", \"Topic5\", \"Topic5\", \"Topic5\", \"Topic5\", \"Topic5\", \"Topic5\", \"Topic5\", \"Topic5\", \"Topic5\", \"Topic5\", \"Topic5\", \"Topic5\", \"Topic5\", \"Topic5\", \"Topic5\", \"Topic5\", \"Topic5\", \"Topic5\", \"Topic5\", \"Topic5\", \"Topic5\", \"Topic5\", \"Topic5\", \"Topic5\", \"Topic5\", \"Topic5\"], \"Freq\": [640.0, 263.0, 527.0, 665.0, 591.0, 756.0, 522.0, 247.0, 133.0, 131.0, 215.0, 288.0, 257.0, 165.0, 196.0, 328.0, 113.0, 166.0, 188.0, 178.0, 184.0, 184.0, 392.0, 425.0, 214.0, 212.0, 330.0, 283.0, 202.0, 351.0, 639.8718872070312, 526.3080444335938, 211.3024139404297, 213.9737091064453, 201.66835021972656, 196.29385375976562, 193.2270050048828, 193.3179931640625, 192.23931884765625, 168.5218963623047, 168.07199096679688, 150.89410400390625, 143.83609008789062, 135.3307342529297, 132.35305786132812, 129.66294860839844, 126.65665435791016, 125.14322662353516, 113.79630279541016, 113.83236694335938, 116.39411926269531, 113.37128448486328, 107.14392852783203, 111.33139038085938, 106.0667724609375, 105.42735290527344, 106.1717758178711, 101.50282287597656, 102.0264663696289, 105.90562438964844, 494.3545227050781, 307.1021728515625, 288.8992614746094, 247.80076599121094, 176.80555725097656, 269.2101135253906, 193.93124389648438, 137.20236206054688, 180.3732147216797, 144.68679809570312, 177.41329956054688, 219.63088989257812, 179.53294372558594, 166.78404235839844, 261.8464660644531, 185.10916137695312, 161.27658081054688, 140.36561584472656, 153.17713928222656, 164.99899291992188, 147.14083862304688, 246.98080444335938, 214.4135284423828, 196.2303009033203, 188.2766571044922, 183.7429962158203, 183.8681182861328, 152.4736328125, 142.0463104248047, 141.685302734375, 135.3085479736328, 117.39845275878906, 116.5036849975586, 108.09774780273438, 103.14275360107422, 94.60826873779297, 102.16041564941406, 95.43099975585938, 90.00575256347656, 91.28607177734375, 90.64578247070312, 88.90118408203125, 87.23707580566406, 92.34916687011719, 87.41671752929688, 79.35125732421875, 79.1415786743164, 93.31847381591797, 79.11830139160156, 76.92094421386719, 75.75321197509766, 240.553466796875, 455.5191650390625, 499.6413269042969, 189.195068359375, 230.26722717285156, 161.27513122558594, 197.6060791015625, 130.07485961914062, 186.78773498535156, 205.07101440429688, 116.25281524658203, 145.15560913085938, 125.95295715332031, 133.48597717285156, 118.68757629394531, 142.950927734375, 136.1371612548828, 114.24786376953125, 164.30418395996094, 114.36244201660156, 109.62480926513672, 87.0871810913086, 78.9883041381836, 72.09368133544922, 74.03050994873047, 63.44645690917969, 65.14801025390625, 62.36140060424805, 63.76655960083008, 60.314613342285156, 63.288455963134766, 62.184085845947266, 53.184993743896484, 53.0032958984375, 50.18476486206055, 49.72898483276367, 48.09291076660156, 46.87907791137695, 46.674808502197266, 43.6754150390625, 45.151039123535156, 44.45805740356445, 42.734588623046875, 42.22154235839844, 42.99998474121094, 41.691619873046875, 41.01177215576172, 40.366188049316406, 40.94357681274414, 397.125732421875, 87.53256225585938, 79.16558837890625, 109.56790924072266, 87.54341125488281, 146.4143829345703, 120.18238067626953, 60.347679138183594, 100.95327758789062, 73.34624481201172, 60.78787612915039, 68.83673858642578, 69.18701934814453, 68.09562683105469, 59.2492561340332, 60.22791290283203, 262.5950927734375, 132.3128204345703, 130.95103454589844, 88.044189453125, 81.93327331542969, 64.6079330444336, 46.06769561767578, 39.14418029785156, 37.77617263793945, 37.21642303466797, 37.14357376098633, 35.319915771484375, 34.70157241821289, 35.84794235229492, 34.53289794921875, 31.006616592407227, 34.56509017944336, 32.22461700439453, 29.964754104614258, 27.79290008544922, 26.6724910736084, 26.81022071838379, 26.564144134521484, 26.87663459777832, 25.857349395751953, 25.59642791748047, 26.114179611206055, 30.050283432006836, 25.357669830322266, 24.945045471191406, 25.68804931640625, 41.80967712402344, 135.92483520507812, 41.43351364135742, 54.86777877807617, 38.23500442504883, 38.214107513427734, 38.01472473144531, 112.5454330444336, 85.7000961303711, 83.66883087158203, 83.04601287841797, 76.5625991821289, 63.1285514831543, 60.17144012451172, 54.410160064697266, 54.29135513305664, 50.05311584472656, 48.99332046508789, 48.85260009765625, 51.4835205078125, 47.042686462402344, 46.012821197509766, 37.30137634277344, 36.1279411315918, 37.61558532714844, 35.50569152832031, 34.739097595214844, 33.78678512573242, 32.92436981201172, 33.79844284057617, 33.82923126220703, 42.09307098388672, 30.324146270751953, 30.784515380859375, 29.406381607055664, 31.410215377807617, 27.70745086669922, 36.4849739074707, 107.16807556152344, 93.96009063720703, 47.008907318115234, 60.00975036621094, 68.34233093261719, 42.99833297729492, 36.67324447631836, 42.184364318847656], \"Term\": [\"\\u043d\\u0430\\u0439\\u0442\\u0438\", \"\\u0449\\u0435\\u0440\\u0431\\u0438\\u043d\\u043a\\u0430\", \"\\u0440\\u0430\\u0439\\u043e\\u043d\", \"\\u0434\\u043e\\u043c\", \"\\u043e\\u0447\\u0435\\u043d\\u044c\", \"\\u0433\\u043e\\u0434\", \"\\u0432\\u0435\\u0441\\u044c\", \"\\u0434\\u0435\\u0432\\u043e\\u0447\\u043a\\u0430\", \"\\u0446\\u0435\\u043d\\u0430\", \"\\u0441\\u043e\\u0440\\u043c\\u043e\\u0432\\u043e\", \"\\u0440\\u0443\\u043a\\u0430\", \"\\u0440\\u0430\\u0431\\u043e\\u0442\\u0430\", \"\\u043c\\u0435\\u0441\\u044f\\u0446\", \"\\u0433\\u0440\\u0443\\u043f\\u043f\\u0430\", \"\\u0437\\u0432\\u043e\\u043d\\u0438\\u0442\\u044c\", \"\\u0434\\u0435\\u043d\\u044c\", \"\\u043e\\u0431\\u0443\\u0447\\u0435\\u043d\\u0438\\u0435\", \"\\u043a\\u0432\\u0430\\u0440\\u0442\\u0438\\u0440\\u0430\", \"\\u043a\\u043e\\u0442\\u0451\\u043d\\u043e\\u043a\", \"\\u0440\\u0443\\u0431\\u043b\\u044c\", \"\\u0432\\u043e\\u0437\\u0440\\u0430\\u0441\\u0442\", \"\\u043a\\u043e\\u0448\\u043a\\u0430\", \"\\u0434\\u043e\\u0431\\u0440\\u044b\\u0439\", \"\\u0447\\u0435\\u043b\\u043e\\u0432\\u0435\\u043a\", \"\\u0442\\u0435\\u043b\\u0435\\u0444\\u043e\\u043d\", \"\\u0430\\u043d\\u043e\\u043d\", \"\\u043f\\u0438\\u0441\\u0430\\u0442\\u044c\", \"\\u043d\\u0430\\u0448\", \"\\u043f\\u0440\\u043e\\u0441\\u044c\\u0431\\u0430\", \"\\u0438\\u0441\\u043a\\u0430\\u0442\\u044c\", \"\\u043d\\u0430\\u0439\\u0442\\u0438\", \"\\u0440\\u0430\\u0439\\u043e\\u043d\", \"\\u0430\\u043d\\u043e\\u043d\", \"\\u0442\\u0435\\u043b\\u0435\\u0444\\u043e\\u043d\", \"\\u043f\\u0440\\u043e\\u0441\\u044c\\u0431\\u0430\", \"\\u0434\\u0435\\u0432\\u0443\\u0448\\u043a\\u0430\", \"\\u043f\\u0440\\u0438\\u0432\\u0435\\u0442\", \"\\u0432\\u0438\\u0434\\u0435\\u0442\\u044c\", \"\\u0444\\u043e\\u0442\\u043e\", \"\\u0441\\u0435\\u0433\\u043e\\u0434\\u043d\\u044f\", \"\\u0441\\u0434\\u0435\\u043b\\u0430\\u0442\\u044c\", \"\\u043f\\u0440\\u043e\\u043f\\u0430\\u0441\\u0442\\u044c\", \"\\u0441\\u043e\\u0440\\u043c\\u043e\\u0432\\u0441\\u043a\\u0438\\u0439\", \"\\u0440\\u0435\\u0431\\u044f\\u0442\\u0430\", \"\\u043a\\u0430\\u0440\\u0442\\u0430\", \"\\u043d\\u043e\\u043c\\u0435\\u0440\", \"\\u0438\\u043c\\u044f\", \"\\u043f\\u043e\\u0442\\u0435\\u0440\\u044f\\u0442\\u044c\", \"\\u0432\\u0435\\u0440\\u043d\\u0443\\u0442\\u044c\", \"\\u043f\\u043e\\u0434\\u0441\\u043a\\u0430\\u0437\\u0430\\u0442\\u044c\", \"\\u0443\\u0442\\u0440\\u043e\", \"\\u0430\\u0434\\u043c\\u0438\\u043d\", \"\\u0437\\u0434\\u0440\\u0430\\u0432\\u0441\\u0442\\u0432\\u043e\\u0432\\u0430\\u0442\\u044c\", \"\\u0440\\u0435\\u0448\\u0438\\u0442\\u044c\", \"\\u043e\\u0448\\u0435\\u0439\\u043d\\u0438\\u043a\", \"\\u043c\\u043e\\u0439\", \"\\u0430\\u0434\\u0440\\u0435\\u0441\", \"\\u0430\\u043d\\u043e\\u043d\\u0438\\u043c\\u043d\\u043e\", \"\\u0431\\u0435\\u0433\\u0430\\u0442\\u044c\", \"\\u0437\\u0430\\u0431\\u0440\\u0430\\u0442\\u044c\", \"\\u0432\\u0435\\u0441\\u044c\", \"\\u0434\\u0435\\u043d\\u044c\", \"\\u043f\\u0438\\u0441\\u0430\\u0442\\u044c\", \"\\u043c\\u043e\\u0447\\u044c\", \"\\u0437\\u043d\\u0430\\u0442\\u044c\", \"\\u0443\\u043b\\u0438\\u0446\\u0430\", \"\\u0431\\u044b\\u0442\\u044c\", \"\\u043c\\u0430\\u0448\\u0438\\u043d\\u0430\", \"\\u0445\\u043e\\u0442\\u0435\\u0442\\u044c\", \"\\u0441\\u043a\\u0430\\u0437\\u0430\\u0442\\u044c\", \"\\u043e\\u0434\\u0438\\u043d\", \"\\u0447\\u0435\\u043b\\u043e\\u0432\\u0435\\u043a\", \"\\u0432\\u0440\\u0435\\u043c\\u044f\", \"\\u0442\\u0430\\u043a\\u043e\\u0439\", \"\\u0433\\u043e\\u0434\", \"\\u043a\\u043e\\u0442\\u043e\\u0440\\u044b\\u0439\", \"\\u0434\\u043e\\u0431\\u0440\\u044b\\u0439\", \"\\u0445\\u043e\\u0440\\u043e\\u0448\\u0438\\u0439\", \"\\u0438\\u0441\\u043a\\u0430\\u0442\\u044c\", \"\\u0434\\u043e\\u043c\", \"\\u043f\\u043e\\u043c\\u043e\\u0447\\u044c\", \"\\u0434\\u0435\\u0432\\u043e\\u0447\\u043a\\u0430\", \"\\u0440\\u0443\\u043a\\u0430\", \"\\u0437\\u0432\\u043e\\u043d\\u0438\\u0442\\u044c\", \"\\u043a\\u043e\\u0442\\u0451\\u043d\\u043e\\u043a\", \"\\u043a\\u043e\\u0448\\u043a\\u0430\", \"\\u0432\\u043e\\u0437\\u0440\\u0430\\u0441\\u0442\", \"\\u043b\\u0430\\u0441\\u043a\\u043e\\u0432\\u044b\\u0439\", \"\\u043c\\u0430\\u043c\\u0430\", \"\\u0434\\u043e\\u043c\\u0430\\u0448\\u043d\\u0438\\u0439\", \"\\u0441\\u0435\\u043c\\u044c\\u044f\", \"\\u0434\\u043e\\u0441\\u0442\\u0430\\u0432\\u043a\\u0430\", \"\\u043b\\u044e\\u0431\\u0438\\u0442\\u044c\", \"\\u043c\\u0430\\u043b\\u044c\\u0447\\u0438\\u043a\", \"\\u0445\\u043e\\u0434\\u0438\\u0442\\u044c\", \"\\u0449\\u0435\\u043d\\u043e\\u043a\", \"\\u043f\\u0440\\u043e\\u0434\\u0430\\u0442\\u044c\", \"\\u043e\\u043a\\u0440\\u0430\\u0441\", \"\\u043f\\u0435\\u0440\\u0435\\u0434\\u0435\\u0440\\u0436\\u043a\\u0430\", \"\\u0434\\u043e\\u043c\\u043e\\u0439\", \"\\u043f\\u043e\\u0437\\u0432\\u043e\\u043d\\u0438\\u0442\\u044c\", \"\\u043b\\u044e\\u0431\\u0438\\u043c\\u044b\\u0439\", \"\\u0441\\u0430\\u043c\", \"\\u043e\\u0442\\u043b\\u0438\\u0447\\u043d\\u044b\\u0439\", \"\\u043c\\u0430\\u0448\\u0435\\u043d\\u044c\\u043a\\u0430\", \"\\u043a\\u043e\\u0448\\u0435\\u0447\\u043a\\u0430\", \"\\u0441\\u0442\\u0435\\u0440\\u0438\\u043b\\u0438\\u0437\\u043e\\u0432\\u0430\\u0442\\u044c\", \"\\u0432\\u043e\\u0437\\u043b\\u0435\", \"\\u0437\\u0432\\u0430\\u0442\\u044c\", \"\\u0437\\u0434\\u043e\\u0440\\u043e\\u0432\\u044b\\u0439\", \"\\u0440\\u043e\\u0434\\u0438\\u0442\\u0435\\u043b\\u044c\", \"\\u043c\\u0435\\u0441\\u044f\\u0446\", \"\\u043e\\u0447\\u0435\\u043d\\u044c\", \"\\u0434\\u043e\\u043c\", \"\\u0445\\u043e\\u0437\\u044f\\u0438\\u043d\", \"\\u0434\\u043e\\u0431\\u0440\\u044b\\u0439\", \"\\u0441\\u043e\\u0431\\u0430\\u043a\\u0430\", \"\\u0438\\u0441\\u043a\\u0430\\u0442\\u044c\", \"\\u0436\\u0434\\u0430\\u0442\\u044c\", \"\\u0441\\u0432\\u043e\\u0439\", \"\\u0447\\u0435\\u043b\\u043e\\u0432\\u0435\\u043a\", \"\\u043a\\u0440\\u0430\\u0441\\u0438\\u0432\\u044b\\u0439\", \"\\u043d\\u0443\\u0436\\u043d\\u044b\\u0439\", \"\\u043e\\u0431\\u043b\\u0430\\u0441\\u0442\\u044c\", \"\\u0436\\u0438\\u0442\\u044c\", \"\\u0440\\u0435\\u043f\\u043e\\u0441\\u0442\", \"\\u0440\\u0435\\u0431\\u0451\\u043d\\u043e\\u043a\", \"\\u043f\\u043e\\u043c\\u043e\\u0447\\u044c\", \"\\u043d\\u0430\\u0448\", \"\\u0433\\u0440\\u0443\\u043f\\u043f\\u0430\", \"\\u043f\\u043e\\u0441\\u0442\", \"\\u043a\\u043b\\u0430\\u0441\\u0441\", \"\\u0436\\u0438\\u0442\\u0435\\u043b\\u044c\", \"\\u043f\\u0430\\u0440\\u043a\", \"\\u043f\\u043e\\u043b\\u0443\\u0447\\u0438\\u0442\\u044c\", \"\\u043f\\u043e\\u0431\\u0435\\u0434\\u0430\", \"\\u0440\\u043e\\u0441\\u0441\\u0438\\u044f\", \"\\u0440\\u0435\\u043c\\u043e\\u043d\\u0442\", \"\\u0441\\u0431\\u043e\\u0440\", \"\\u0441\\u043b\\u043e\\u0432\\u043e\", \"\\u0441\\u0442\\u0440\\u043e\\u0438\\u0442\\u0435\\u043b\\u044c\\u0441\\u0442\\u0432\\u043e\", \"\\u043e\\u0431\\u0449\\u0438\\u0439\", \"\\u043a\\u0430\\u0431\\u0438\\u043d\\u0435\\u0442\", \"\\u043a\\u043e\\u043d\\u043a\\u0443\\u0440\\u0441\", \"\\u0442\\u0440\\u0430\\u043d\\u0441\\u043f\\u043e\\u0440\\u0442\", \"\\u043f\\u0435\\u043d\\u0441\\u0438\\u043e\\u043d\\u043d\\u044b\\u0439\", \"\\u043f\\u043b\\u043e\\u0449\\u0430\\u0434\\u044c\", \"\\u0438\\u0441\\u0442\\u043e\\u0440\\u0438\\u044f\", \"\\u043a\\u0430\\u0447\\u0435\\u0441\\u0442\\u0432\\u043e\", \"\\u043e\\u0441\\u0430\\u0433\\u043e\", \"\\u0441\\u0442\\u0440\\u0430\\u043d\\u0430\", \"\\u0441\\u043e\\u0432\\u0435\\u0442\\u0441\\u043a\\u0438\\u0439\", \"\\u0430\\u043a\\u0446\\u0438\\u044f\", \"\\u043e\\u0431\\u0449\\u0435\\u0441\\u0442\\u0432\\u0435\\u043d\\u043d\\u044b\\u0439\", \"\\u043e\\u0431\\u0440\\u0430\\u0437\\u043e\\u0432\\u0430\\u043d\\u0438\\u0435\", \"\\u043f\\u043e\\u043b\\u043d\\u044b\\u0439\", \"\\u0432\\u044b\\u0441\\u043e\\u043a\\u0438\\u0439\", \"\\u043f\\u0440\\u0438\\u043d\\u044f\\u0442\\u044c\", \"\\u043c\\u0435\\u0442\\u0440\", \"\\u0441\\u043f\\u043e\\u0440\\u0442\\u0438\\u0432\\u043d\\u044b\\u0439\", \"\\u0433\\u043e\\u0434\", \"\\u043f\\u043e\\u0434\\u0430\\u0440\\u043e\\u043a\", \"\\u043d\\u0438\\u0436\\u0435\\u0433\\u043e\\u0440\\u043e\\u0434\\u0441\\u043a\\u0438\\u0439\", \"\\u0433\\u043e\\u0440\\u043e\\u0434\", \"\\u0434\\u0435\\u043b\\u043e\", \"\\u043a\\u043e\\u0442\\u043e\\u0440\\u044b\\u0439\", \"\\u043d\\u0438\\u0436\\u043d\\u0438\\u0439_\\u043d\\u043e\\u0432\\u0433\\u043e\\u0440\\u043e\\u0434\", \"\\u0434\\u043e\\u043b\\u0436\\u043d\\u044b\\u0439\", \"\\u043d\\u0430\\u0448\", \"\\u043f\\u043e\\u043c\\u043e\\u0449\\u044c\", \"\\u0441\\u0442\\u0430\\u0442\\u044c\", \"\\u043e\\u0434\\u0438\\u043d\", \"\\u0432\\u0440\\u0435\\u043c\\u044f\", \"\\u0441\\u0432\\u043e\\u0439\", \"\\u043a\\u0430\\u0436\\u0434\\u044b\\u0439\", \"\\u043e\\u0431\\u043b\\u0430\\u0441\\u0442\\u044c\", \"\\u0449\\u0435\\u0440\\u0431\\u0438\\u043d\\u043a\\u0430\", \"\\u0446\\u0435\\u043d\\u0430\", \"\\u0441\\u043e\\u0440\\u043c\\u043e\\u0432\\u043e\", \"\\u0442\\u0440\\u0435\\u0431\\u043e\\u0432\\u0430\\u0442\\u044c\\u0441\\u044f\", \"\\u0433\\u0430\\u0433\\u0430\\u0440\\u0438\\u043d\", \"\\u043a\\u0443\\u043f\\u0438\\u0442\\u044c\", \"\\u0437\\u0430\\u0432\\u043e\\u0434\", \"\\u043c\\u043e\\u0441\\u0442\", \"\\u043e\\u043f\\u044b\\u0442\", \"\\u0438\\u0433\\u0440\\u0430\", \"\\u043f\\u0440\\u0435\\u0434\\u043b\\u0430\\u0433\\u0430\\u0442\\u044c\", \"\\u0433\\u043e\\u0441\\u0442\\u044c\", \"\\u0430\\u0432\\u0442\\u043e\\u043c\\u043e\\u0431\\u0438\\u043b\\u044c\", \"\\u0441\\u0442\\u043e\\u043b\", \"\\u043f\\u0440\\u043e\\u0433\\u0443\\u043b\\u043a\\u0430\", \"\\u0430\\u0439\\u0444\\u043e\\u043d\", \"\\u043a\\u043e\\u043d\\u0451\\u043a\", \"\\u043f\\u043e\\u043b\\u0438\\u0446\\u0435\\u0439\\u0441\\u043a\\u0438\\u0439\", \"\\u043f\\u0435\\u0440\\u0438\\u043e\\u0434\", \"\\u0436\\u0435\\u043b\\u0430\\u044e\\u0449\\u0438\\u0439\", \"\\u044d\\u0442\\u0430\\u0436\", \"\\u0434\\u0432\\u0438\\u0436\\u0435\\u043d\\u0438\\u0435\", \"\\u043c\\u0438\\u043a\\u0440\\u043e\\u0440\\u0430\\u0439\\u043e\\u043d\", \"\\u043f\\u043b\\u0451\\u043d\\u043a\\u0430\", \"\\u0441\\u043e\\u0442\\u0440\\u0443\\u0434\\u043d\\u0438\\u043a\", \"\\u043d\\u0430\\u0441\\u0442\\u0440\\u043e\\u0435\\u043d\\u0438\\u0435\", \"\\u0432\\u043e\\u043e\\u0431\\u0449\\u0435\", \"\\u0440\\u0430\\u043d\\u043d\\u0438\\u0439\", \"\\u043a\\u0430\\u0447\\u0435\\u0441\\u0442\\u0432\\u0435\\u043d\\u043d\\u044b\\u0439\", \"\\u043c\\u044b\\u0437\\u0438\\u043d\\u0441\\u043a\\u0438\\u0439\", \"\\u043f\\u043e\\u0433\\u043e\\u0434\\u0430\", \"\\u0437\\u0430\\u043a\\u0430\\u0437\", \"\\u0440\\u0430\\u0431\\u043e\\u0442\\u0430\", \"\\u0437\\u0430\\u043d\\u0438\\u043c\\u0430\\u0442\\u044c\\u0441\\u044f\", \"\\u0441\\u0430\\u043c\\u044b\\u0439\", \"\\u043f\\u043e\\u0437\\u043d\\u0430\\u043a\\u043e\\u043c\\u0438\\u0442\\u044c\\u0441\\u044f\", \"\\u0438\\u043d\\u0444\\u043e\\u0440\\u043c\\u0430\\u0446\\u0438\\u044f\", \"\\u0440\\u0430\\u0431\\u043e\\u0442\\u0430\\u0442\\u044c\", \"\\u043e\\u0431\\u0443\\u0447\\u0435\\u043d\\u0438\\u0435\", \"\\u043c\\u0430\\u0433\\u0430\\u0437\\u0438\\u043d\", \"\\u0433\\u0440\\u0430\\u0444\\u0438\\u043a\", \"\\u0432\\u043e\\u0437\\u043d\\u0430\\u0433\\u0440\\u0430\\u0436\\u0434\\u0435\\u043d\\u0438\\u0435\", \"\\u0441\\u043d\\u044f\\u0442\\u044c\", \"\\u0432\\u0447\\u0435\\u0440\\u0430\", \"\\u0432\\u043e\\u0434\\u0438\\u0442\\u0435\\u043b\\u044c\", \"\\u0433\\u043e\\u0432\\u043e\\u0440\\u0438\\u0442\\u044c\", \"\\u0441\\u043e\\u0441\\u0442\\u043e\\u044f\\u043d\\u0438\\u0435\", \"\\u0443\\u0442\\u0435\\u0440\\u044f\\u0442\\u044c\", \"\\u043e\\u043f\\u043b\\u0430\\u0442\\u0430\", \"\\u043b\\u0438\\u0447\\u043d\\u044b\\u0439\", \"\\u043c\\u0438\\u0440\", \"\\u0441\\u043e\\u043e\\u0431\\u0449\\u0435\\u043d\\u0438\\u0435\", \"\\u0441\\u0442\\u043e\\u0438\\u043c\\u043e\\u0441\\u0442\\u044c\", \"\\u0434\\u043e\\u0440\\u043e\\u0433\\u043e\\u0439\", \"\\u0430\\u0432\\u0442\\u043e\\u0448\\u043a\\u043e\\u043b\\u0430\", \"\\u0432\\u044b\\u0441\\u043e\\u0442\\u0430\", \"\\u0443\\u0447\\u0435\\u0431\\u043d\\u044b\\u0439\", \"\\u043a\\u043e\\u043c\\u043d\\u0430\\u0442\\u0430\", \"\\u0441\\u043a\\u0438\\u0434\\u043a\\u0430\", \"\\u043e\\u0444\\u0438\\u0441\", \"\\u043f\\u043e\\u043b\\u0438\\u0446\\u0438\\u044f\", \"\\u0447\\u0430\\u0441\", \"\\u043c\\u0430\\u043a\\u0441\", \"\\u0432\\u043e\\u0436\\u0434\\u0435\\u043d\\u0438\\u0435\", \"\\u043f\\u043e\\u0440\\u0430\", \"\\u0443\\u0431\\u0435\\u0436\\u0430\\u0442\\u044c\", \"\\u0434\\u0438\\u0440\\u0435\\u043a\\u0442\\u043e\\u0440\", \"\\u0441\\u0434\\u0430\\u0442\\u044c\", \"\\u0431\\u0435\\u043b\\u043e\\u0432\", \"\\u0440\\u0443\\u0431\\u043b\\u044c\", \"\\u043a\\u0432\\u0430\\u0440\\u0442\\u0438\\u0440\\u0430\", \"\\u043d\\u043e\\u0447\\u044c\", \"\\u0448\\u043a\\u043e\\u043b\\u0430\", \"\\u043d\\u0430\\u0448\", \"\\u0446\\u0435\\u043d\\u0442\\u0440\", \"\\u043f\\u0440\\u0438\\u0445\\u043e\\u0434\\u0438\\u0442\\u044c\", \"\\u0440\\u0430\\u0431\\u043e\\u0442\\u0430\"], \"Total\": [640.0, 263.0, 527.0, 665.0, 591.0, 756.0, 522.0, 247.0, 133.0, 131.0, 215.0, 288.0, 257.0, 165.0, 196.0, 328.0, 113.0, 166.0, 188.0, 178.0, 184.0, 184.0, 392.0, 425.0, 214.0, 212.0, 330.0, 283.0, 202.0, 351.0, 640.6028442382812, 527.0459594726562, 212.0277557373047, 214.71546936035156, 202.39735412597656, 197.0234375, 193.9547576904297, 194.051513671875, 192.97494506835938, 169.25289916992188, 168.82395935058594, 151.626708984375, 144.57965087890625, 136.05984497070312, 133.0884552001953, 130.400634765625, 127.38358306884766, 125.86917114257812, 114.52188873291016, 114.55964660644531, 117.13810729980469, 114.09820556640625, 107.87529754638672, 112.09590148925781, 106.79515075683594, 106.16450500488281, 106.92457580566406, 102.22908020019531, 102.76361846923828, 106.67412567138672, 522.472900390625, 328.6666564941406, 330.59521484375, 290.8460998535156, 196.9615936279297, 343.6228942871094, 237.75408935546875, 151.92721557617188, 244.54185485839844, 172.13099670410156, 269.5378112792969, 425.2005615234375, 281.7898254394531, 248.29054260253906, 756.0465698242188, 381.6538391113281, 392.03106689453125, 173.94908142089844, 351.2687072753906, 665.1323852539062, 283.76629638671875, 247.67153930664062, 215.1248321533203, 196.92059326171875, 188.953125, 184.424560546875, 184.55714416503906, 153.1492156982422, 142.73179626464844, 142.37606811523438, 136.00413513183594, 118.08834075927734, 117.18914031982422, 108.77836608886719, 103.83262634277344, 95.285400390625, 102.89273071289062, 96.13111114501953, 90.6814956665039, 91.97551727294922, 91.35633087158203, 89.61246490478516, 87.93846893310547, 93.09391021728516, 88.13640594482422, 80.02692413330078, 79.81661987304688, 94.12123107910156, 79.81455993652344, 77.60599517822266, 76.45329284667969, 257.0057067871094, 591.4171142578125, 665.1323852539062, 273.5266418457031, 392.03106689453125, 246.2027130126953, 351.2687072753906, 174.68283081054688, 351.2666931152344, 425.2005615234375, 152.31591796875, 244.60174560546875, 186.6770782470703, 222.2119140625, 165.83596801757812, 312.322998046875, 283.76629638671875, 283.890869140625, 165.046630859375, 115.10214233398438, 110.42167663574219, 87.82048034667969, 79.7223892211914, 72.83718872070312, 74.845458984375, 64.17431640625, 65.90787506103516, 63.089988708496094, 64.52818298339844, 61.049686431884766, 64.0775375366211, 62.964271545410156, 53.924522399902344, 53.76325988769531, 50.91299819946289, 50.472389221191406, 48.82707214355469, 47.64949417114258, 47.443763732910156, 44.40699768066406, 45.909584045410156, 45.210628509521484, 43.47296142578125, 42.96884536743164, 43.76493453979492, 42.4474983215332, 41.7559814453125, 41.1013069152832, 41.72709655761719, 756.0465698242188, 115.09188842773438, 104.53738403320312, 172.06654357910156, 132.90174865722656, 381.6538391113281, 278.0374450683594, 81.47802734375, 283.890869140625, 172.87185668945312, 118.51752471923828, 269.5378112792969, 281.7898254394531, 351.2666931152344, 148.26510620117188, 186.6770782470703, 263.4546203613281, 133.1072235107422, 131.7558135986328, 88.85187530517578, 82.76345825195312, 65.39797973632812, 46.86701965332031, 39.93637466430664, 38.57205581665039, 38.00798416137695, 37.95904541015625, 36.107322692871094, 35.489097595214844, 36.66382598876953, 35.347869873046875, 31.793912887573242, 35.516326904296875, 33.11822509765625, 30.833696365356445, 28.61246109008789, 27.462745666503906, 27.617938995361328, 27.36524200439453, 27.69148063659668, 26.646142959594727, 26.38392448425293, 26.917800903320312, 30.985567092895508, 26.16746711730957, 25.75310707092285, 26.547258377075195, 46.94691467285156, 288.8787536621094, 62.61439514160156, 163.49742126464844, 85.34540557861328, 87.89926147460938, 131.15782165527344, 113.31591033935547, 86.49073791503906, 84.45948791503906, 83.84303283691406, 77.34256744384766, 63.95050811767578, 60.96931838989258, 55.2028694152832, 55.12339401245117, 50.83351135253906, 49.778709411621094, 49.63849639892578, 52.31303405761719, 47.83149719238281, 46.78517150878906, 38.09355545043945, 36.89614486694336, 38.435272216796875, 36.281883239746094, 35.51738739013672, 34.56555938720703, 33.69965744018555, 34.607322692871094, 34.64530563354492, 43.14636993408203, 31.097137451171875, 31.605552673339844, 30.203521728515625, 32.27151870727539, 28.481830596923828, 37.68247604370117, 178.56741333007812, 166.39767456054688, 63.53515625, 115.27277374267578, 283.890869140625, 85.57123565673828, 52.52648162841797, 288.8787536621094], \"loglift\": [30.0, 29.0, 28.0, 27.0, 26.0, 25.0, 24.0, 23.0, 22.0, 21.0, 20.0, 19.0, 18.0, 17.0, 16.0, 15.0, 14.0, 13.0, 12.0, 11.0, 10.0, 9.0, 8.0, 7.0, 6.0, 5.0, 4.0, 3.0, 2.0, 1.0, 1.0683000087738037, 1.0680999755859375, 1.065999984741211, 1.065999984741211, 1.0658999681472778, 1.0657999515533447, 1.0657000541687012, 1.0657000541687012, 1.0657000541687012, 1.0650999546051025, 1.065000057220459, 1.0645999908447266, 1.0642999410629272, 1.0641000270843506, 1.0638999938964844, 1.0637999773025513, 1.0637999773025513, 1.0636999607086182, 1.063099980354309, 1.063099980354309, 1.063099980354309, 1.063099980354309, 1.0627000331878662, 1.062600016593933, 1.062600016593933, 1.0625, 1.062399983406067, 1.0622999668121338, 1.0622999668121338, 1.0621999502182007, 1.01419997215271, 1.0016000270843506, 0.9347000122070312, 0.9093000292778015, 0.9614999890327454, 0.8253999948501587, 0.8657000064849854, 0.9674999713897705, 0.7651000022888184, 0.895799994468689, 0.651199996471405, 0.4088999927043915, 0.6187000274658203, 0.6715999841690063, 0.009100000374019146, 0.3458999991416931, 0.18129999935626984, 0.8550000190734863, 0.2395000010728836, -0.3246000111103058, 0.41269999742507935, 1.3585000038146973, 1.3580000400543213, 1.357800006866455, 1.357699990272522, 1.3575999736785889, 1.3574999570846558, 1.3568999767303467, 1.3565000295639038, 1.3564000129699707, 1.3561999797821045, 1.3553999662399292, 1.3553999662399292, 1.3550000190734863, 1.354599952697754, 1.354099988937378, 1.354099988937378, 1.3539999723434448, 1.3538000583648682, 1.3538000583648682, 1.3535000085830688, 1.3532999753952026, 1.3532999753952026, 1.3531999588012695, 1.3530999422073364, 1.3528000116348267, 1.3528000116348267, 1.3526999950408936, 1.3524999618530273, 1.3523999452590942, 1.3521000146865845, 1.2950999736785889, 1.1002000570297241, 1.0751999616622925, 0.9926999807357788, 0.829200029373169, 0.9381999969482422, 0.7860000133514404, 1.0664000511169434, 0.7297000288963318, 0.632099986076355, 1.0910999774932861, 0.8395000100135803, 0.9678000211715698, 0.8515999913215637, 1.0268000364303589, 0.5796999931335449, 0.626800000667572, 0.4510999917984009, 1.6516000032424927, 1.6497000455856323, 1.648900032043457, 1.6476999521255493, 1.6469000577926636, 1.645900011062622, 1.6452000141143799, 1.644700050354004, 1.6445000171661377, 1.6445000171661377, 1.6441999673843384, 1.6440000534057617, 1.6437000036239624, 1.6435999870300293, 1.642300009727478, 1.6418999433517456, 1.641700029373169, 1.6412999629974365, 1.6410000324249268, 1.639799952507019, 1.639799952507019, 1.6395000219345093, 1.6395000219345093, 1.639299988746643, 1.6390000581741333, 1.6385999917984009, 1.6384999752044678, 1.638200044631958, 1.638100028038025, 1.638100028038025, 1.6371999979019165, 1.0123000144958496, 1.3824000358581543, 1.378100037574768, 1.204800009727478, 1.2386000156402588, 0.6980000138282776, 0.8173999786376953, 1.3559000492095947, 0.6222000122070312, 0.798799991607666, 0.9883999824523926, 0.29109999537467957, 0.251800000667572, 0.01549999974668026, 0.7389000058174133, 0.5249000191688538, 2.208699941635132, 2.205899953842163, 2.2058000564575195, 2.2028000354766846, 2.2018001079559326, 2.1998000144958496, 2.194700002670288, 2.1919000148773193, 2.1910998821258545, 2.1909000873565674, 2.190200090408325, 2.1898999214172363, 2.189500093460083, 2.1893999576568604, 2.1886000633239746, 2.186800003051758, 2.184799909591675, 2.1846001148223877, 2.183300018310547, 2.1828999519348145, 2.1826999187469482, 2.1821999549865723, 2.1821999549865723, 2.1821000576019287, 2.1819000244140625, 2.1816000938415527, 2.1816000938415527, 2.181299924850464, 2.180500030517578, 2.180000066757202, 2.178999900817871, 2.0959999561309814, 1.4579999446868896, 1.7990000247955322, 1.1200000047683716, 1.409000039100647, 1.3789000511169434, 0.9735000133514404, 2.2946999073028564, 2.29229998588562, 2.292099952697754, 2.2918999195098877, 2.2913999557495117, 2.288599967956543, 2.288300037384033, 2.2869999408721924, 2.28629994392395, 2.2860000133514404, 2.285599946975708, 2.2855000495910645, 2.2855000495910645, 2.284899950027466, 2.2848000526428223, 2.2804999351501465, 2.2804999351501465, 2.279900074005127, 2.279900074005127, 2.2792999744415283, 2.278700113296509, 2.2781999111175537, 2.2778000831604004, 2.2776999473571777, 2.2767999172210693, 2.2762999534606934, 2.2751998901367188, 2.2746999263763428, 2.274399995803833, 2.273900032043457, 2.269200086593628, 1.7908999919891357, 1.7300000190734863, 2.000200033187866, 1.6486999988555908, 0.8773999810218811, 1.6132999658584595, 1.942199945449829, 0.3774999976158142], \"logprob\": [30.0, 29.0, 28.0, 27.0, 26.0, 25.0, 24.0, 23.0, 22.0, 21.0, 20.0, 19.0, 18.0, 17.0, 16.0, 15.0, 14.0, 13.0, 12.0, 11.0, 10.0, 9.0, 8.0, 7.0, 6.0, 5.0, 4.0, 3.0, 2.0, 1.0, -3.968899965286255, -4.164299964904785, -5.076900005340576, -5.064300060272217, -5.123499870300293, -5.1504998207092285, -5.166299819946289, -5.165800094604492, -5.17140007019043, -5.303100109100342, -5.305799961090088, -5.413599967956543, -5.46150016784668, -5.52239990234375, -5.5447001457214355, -5.565199851989746, -5.588699817657471, -5.6006999015808105, -5.695700168609619, -5.695400238037109, -5.6732001304626465, -5.69950008392334, -5.75600004196167, -5.717599868774414, -5.76609992980957, -5.77209997177124, -5.765100002288818, -5.810100078582764, -5.804900169372559, -5.767600059509277, -4.226900100708008, -4.703000068664551, -4.764100074768066, -4.917500019073486, -5.255099773406982, -4.834700107574463, -5.162700176239014, -5.508699893951416, -5.235099792480469, -5.455599784851074, -5.251699924468994, -5.0381999015808105, -5.239799976348877, -5.313499927520752, -4.862400054931641, -5.209199905395508, -5.3470001220703125, -5.485899925231934, -5.398600101470947, -5.32420015335083, -5.438799858093262, -4.629000186920166, -4.770400047302246, -4.859099864959717, -4.900400161743164, -4.924799919128418, -4.924099922180176, -5.111400127410889, -5.182199954986572, -5.184700012207031, -5.230800151824951, -5.372799873352051, -5.38040018081665, -5.4552998542785645, -5.502200126647949, -5.588600158691406, -5.5117998123168945, -5.579899787902832, -5.638500213623047, -5.6244001388549805, -5.631400108337402, -5.6508002281188965, -5.6697001457214355, -5.612800121307373, -5.667699813842773, -5.764500141143799, -5.767099857330322, -5.60230016708374, -5.767399787902832, -5.795599937438965, -5.8109002113342285, -4.655399799346924, -4.016900062561035, -3.924499988555908, -4.895599842071533, -4.699100017547607, -5.055200099945068, -4.852099895477295, -5.270199775695801, -4.908400058746338, -4.815000057220459, -5.382599830627441, -5.1605000495910645, -5.3024001121521, -5.2444000244140625, -5.3618998527526855, -5.17579984664917, -5.224699974060059, -5.400000095367432, -4.741799831390381, -5.104100227355957, -5.146399974822998, -5.3765997886657715, -5.4741997718811035, -5.565499782562256, -5.539000034332275, -5.693299770355225, -5.666800022125244, -5.710599899291992, -5.688300132751465, -5.743899822235107, -5.695799827575684, -5.713399887084961, -5.869699954986572, -5.873199939727783, -5.927800178527832, -5.9369001388549805, -5.970399856567383, -5.9959001541137695, -6.00029993057251, -6.066699981689453, -6.0335001945495605, -6.048999786376953, -6.088500022888184, -6.100599765777588, -6.082300186157227, -6.1132001876831055, -6.129700183868408, -6.145500183105469, -6.13129997253418, -3.859299898147583, -5.371500015258789, -5.4720001220703125, -5.146999835968018, -5.371399879455566, -4.857100009918213, -5.054500102996826, -5.7434000968933105, -5.228899955749512, -5.548299789428711, -5.736100196838379, -5.611800193786621, -5.6066999435424805, -5.622600078582764, -5.7617998123168945, -5.7453999519348145, -3.717099905014038, -4.402500152587891, -4.412899971008301, -4.809899806976318, -4.881800174713135, -5.1194000244140625, -5.457600116729736, -5.620500087738037, -5.656000137329102, -5.671000003814697, -5.672900199890137, -5.723299980163574, -5.740900039672852, -5.708399772644043, -5.745800018310547, -5.853499889373779, -5.744900226593018, -5.815000057220459, -5.887700080871582, -5.962900161743164, -6.0040998458862305, -5.998899936676025, -6.0081000328063965, -5.996500015258789, -6.035099983215332, -6.045300006866455, -6.025199890136719, -5.884799957275391, -6.054599761962891, -6.071000099182129, -6.0416998863220215, -5.554599761962891, -4.3755998611450195, -5.563600063323975, -5.282800197601318, -5.644000053405762, -5.644499778747559, -5.649700164794922, -4.474800109863281, -4.747300148010254, -4.771299839019775, -4.77869987487793, -4.860000133514404, -5.052999973297119, -5.100900173187256, -5.201600074768066, -5.203800201416016, -5.285099983215332, -5.30649995803833, -5.309299945831299, -5.256899833679199, -5.347099781036377, -5.369200229644775, -5.579100131988525, -5.611100196838379, -5.570700168609619, -5.628399848937988, -5.650300025939941, -5.678100109100342, -5.70389986038208, -5.677700042724609, -5.676799774169922, -5.4583001136779785, -5.786200046539307, -5.771100044250488, -5.81689977645874, -5.750999927520752, -5.876399993896484, -5.601200103759766, -4.52370023727417, -4.655300140380859, -5.347799777984619, -5.103600025177002, -4.973599910736084, -5.436999797821045, -5.596099853515625, -5.456099987030029]}, \"token.table\": {\"Topic\": [4, 5, 1, 1, 4, 3, 1, 1, 1, 3, 5, 1, 2, 3, 1, 1, 2, 1, 5, 5, 2, 5, 2, 4, 1, 2, 3, 5, 5, 3, 5, 4, 5, 1, 2, 3, 1, 2, 3, 4, 5, 3, 4, 2, 1, 1, 2, 3, 4, 1, 4, 5, 1, 2, 1, 3, 1, 2, 2, 2, 5, 2, 2, 4, 5, 4, 3, 1, 2, 1, 4, 3, 4, 3, 4, 2, 2, 2, 1, 1, 2, 4, 1, 3, 4, 1, 2, 3, 3, 1, 2, 3, 5, 1, 4, 3, 2, 5, 3, 5, 3, 4, 1, 2, 3, 2, 2, 2, 1, 2, 4, 2, 5, 2, 2, 5, 5, 2, 2, 2, 1, 5, 2, 5, 3, 4, 5, 1, 4, 1, 3, 4, 1, 4, 2, 3, 5, 2, 3, 1, 2, 3, 4, 1, 2, 5, 1, 2, 2, 3, 3, 5, 3, 3, 1, 2, 3, 2, 5, 4, 3, 2, 5, 1, 2, 1, 3, 3, 2, 4, 1, 2, 3, 4, 3, 4, 1, 3, 1, 2, 2, 4, 4, 5, 3, 3, 1, 2, 1, 2, 3, 5, 5, 3, 1, 4, 1, 3, 2, 5, 4, 2, 1, 1, 1, 3, 4, 5, 1, 3, 4, 1, 4, 1, 1, 2, 3, 3, 1, 2, 1, 2, 3, 3, 4, 5, 2, 2, 2, 4, 3, 1, 2, 3, 5, 1, 1, 2, 1, 3, 5, 3, 5, 1, 2, 3, 5, 4, 1, 5, 4, 3, 1, 2, 3, 2, 5, 4, 3, 3, 1, 2, 3, 1, 3, 4, 5, 1, 2, 5, 1, 5, 1, 2, 1, 2, 1, 2, 1, 2, 4, 3, 5, 5, 1, 2, 3, 5, 2, 4, 4], \"Freq\": [0.9862183928489685, 0.9757117033004761, 0.9903749227523804, 0.9913530349731445, 0.9750294089317322, 0.9732224941253662, 0.9951527118682861, 0.9977591633796692, 0.9925691485404968, 0.026537533849477768, 0.9553512334823608, 0.8159691691398621, 0.06309039890766144, 0.11776874214410782, 0.9954428672790527, 0.9455035924911499, 0.0535912960767746, 0.9945812821388245, 0.9841015338897705, 0.9647189974784851, 0.9880873560905457, 0.989945113658905, 0.9969812035560608, 0.9659035801887512, 0.6387739777565002, 0.0603286512196064, 0.2448633462190628, 0.056779906153678894, 0.9851368069648743, 0.9894576072692871, 0.9886751770973206, 0.9907754063606262, 0.9782100319862366, 0.3465394973754883, 0.12829896807670593, 0.5250999331474304, 0.27315014600753784, 0.09298728406429291, 0.639287531375885, 0.9693324565887451, 0.994559645652771, 0.9936586022377014, 0.9776254296302795, 0.9972885847091675, 0.9948055148124695, 0.1429627537727356, 0.11286532878875732, 0.6621432900428772, 0.08276791125535965, 0.9340770840644836, 0.06389452517032623, 0.9605993628501892, 0.41068172454833984, 0.586688220500946, 0.2577382028102875, 0.7363948822021484, 0.24807091057300568, 0.7517300248146057, 0.9973586201667786, 0.9893937110900879, 0.9712929129600525, 0.99078369140625, 0.7442059516906738, 0.09159457683563232, 0.16029050946235657, 0.9785946011543274, 0.9906573295593262, 0.3960183560848236, 0.5985277891159058, 0.9936805367469788, 0.9815004467964172, 0.10650327056646347, 0.8946274518966675, 0.33538612723350525, 0.6548014879226685, 0.9897943735122681, 0.9953250288963318, 0.9921913743019104, 0.9918860197067261, 0.8986523747444153, 0.1015426367521286, 0.973479688167572, 0.9969887733459473, 0.5574563145637512, 0.43231308460235596, 0.43556398153305054, 0.5636710524559021, 0.9830611944198608, 0.9846854209899902, 0.32374441623687744, 0.1686168760061264, 0.3979358375072479, 0.1011701300740242, 0.9918215870857239, 0.9553847908973694, 0.9863693118095398, 0.4326983690261841, 0.5649117231369019, 0.9961811900138855, 0.9854328632354736, 0.9828552603721619, 0.9854622483253479, 0.484732449054718, 0.13100877404212952, 0.3825456202030182, 0.9949557781219482, 0.9871677756309509, 0.9976978898048401, 0.236350879073143, 0.7615750432014465, 0.9939144849777222, 0.992496132850647, 0.9871370792388916, 0.9931654334068298, 0.998386025428772, 0.994326114654541, 0.9734306931495667, 0.9928444623947144, 0.9948729276657104, 0.9871062636375427, 0.9017475843429565, 0.09214939177036285, 0.937722384929657, 0.06225542724132538, 0.9732050895690918, 0.9866530895233154, 0.9749004244804382, 0.9890311360359192, 0.9765533208847046, 0.8526846170425415, 0.14784450829029083, 0.9707566499710083, 0.9990589618682861, 0.9854485392570496, 0.40156275033950806, 0.3557704985141754, 0.23952865600585938, 0.23914889991283417, 0.7557104825973511, 0.16544534265995026, 0.338083952665329, 0.4315965473651886, 0.06473948061466217, 0.9969276785850525, 0.2518290877342224, 0.739747941493988, 0.4047395586967468, 0.5928003191947937, 0.6749623417854309, 0.3214106559753418, 0.9774523973464966, 0.9972121119499207, 0.9891205430030823, 0.9831838607788086, 0.6566796898841858, 0.0853312537074089, 0.2559937536716461, 0.9882336854934692, 0.9843565821647644, 0.9851691722869873, 0.9906465411186218, 0.9882493615150452, 0.9792384505271912, 0.22826528549194336, 0.7710294127464294, 0.9925544261932373, 0.990938663482666, 0.9820674657821655, 0.9924847483634949, 0.9729615449905396, 0.8741808533668518, 0.12401873618364334, 0.9906406402587891, 0.9750291109085083, 0.9887039661407471, 0.979385495185852, 0.2345951646566391, 0.7646064758300781, 0.995114803314209, 0.9960995316505432, 0.5507033467292786, 0.4452494978904724, 0.966235339641571, 0.9824510216712952, 0.9825217723846436, 0.988506019115448, 0.518031895160675, 0.4792676270008087, 0.16196967661380768, 0.3297240138053894, 0.42227810621261597, 0.08098483830690384, 0.9808403253555298, 0.990424633026123, 0.9930946230888367, 0.9747347235679626, 0.9950774312019348, 0.9818952679634094, 0.2855702340602875, 0.7044066190719604, 0.9901586771011353, 0.9913236498832703, 0.9958667755126953, 0.9980367422103882, 0.28731778264045715, 0.0969264805316925, 0.4707857370376587, 0.14538972079753876, 0.6328253746032715, 0.06861962378025055, 0.2897273004055023, 0.9980154037475586, 0.9681926965713501, 0.9922104477882385, 0.3714103698730469, 0.4578593373298645, 0.1696961224079132, 0.9862250685691833, 0.2834125757217407, 0.7175765633583069, 0.9902235269546509, 0.9940710067749023, 0.981701135635376, 0.33040744066238403, 0.06720151007175446, 0.5992134809494019, 0.9947712421417236, 0.989328145980835, 0.6605609059333801, 0.3363967537879944, 0.9827232956886292, 0.27329662442207336, 0.5323590636253357, 0.1935851126909256, 0.9830828905105591, 0.9951193928718567, 0.9985057711601257, 0.9926168918609619, 0.8423817157745361, 0.15685728192329407, 0.9836380481719971, 0.9918146729469299, 0.9955707788467407, 0.34118226170539856, 0.6539326906204224, 0.9801874756813049, 0.982616126537323, 0.9942635297775269, 0.9959908127784729, 0.9796203970909119, 0.9757509827613831, 0.9825749397277832, 0.2868773937225342, 0.19406412541866302, 0.5146918296813965, 0.9897688031196594, 0.9832175374031067, 0.9818942546844482, 0.9908348321914673, 0.9828060269355774, 0.6725991368293762, 0.17721174657344818, 0.15304650366306305, 0.9966678023338318, 0.9858033061027527, 0.9904124140739441, 0.9601529240608215, 0.7828348875045776, 0.2153523564338684, 0.9836031198501587, 0.9902840852737427, 0.9922307729721069, 0.9949477910995483, 0.9919810891151428, 0.3070998787879944, 0.6909747123718262, 0.8048332333564758, 0.18971069157123566, 0.7360703349113464, 0.2617138922214508, 0.991681694984436, 0.49081912636756897, 0.5025053024291992, 0.9813739657402039, 0.5174028873443604, 0.4821254312992096, 0.47712913155555725, 0.5205045342445374, 0.9970048069953918, 0.9982743859291077, 0.983150064945221], \"Term\": [\"\\u0430\\u0432\\u0442\\u043e\\u043c\\u043e\\u0431\\u0438\\u043b\\u044c\", \"\\u0430\\u0432\\u0442\\u043e\\u0448\\u043a\\u043e\\u043b\\u0430\", \"\\u0430\\u0434\\u043c\\u0438\\u043d\", \"\\u0430\\u0434\\u0440\\u0435\\u0441\", \"\\u0430\\u0439\\u0444\\u043e\\u043d\", \"\\u0430\\u043a\\u0446\\u0438\\u044f\", \"\\u0430\\u043d\\u043e\\u043d\", \"\\u0430\\u043d\\u043e\\u043d\\u0438\\u043c\\u043d\\u043e\", \"\\u0431\\u0435\\u0433\\u0430\\u0442\\u044c\", \"\\u0431\\u0435\\u043b\\u043e\\u0432\", \"\\u0431\\u0435\\u043b\\u043e\\u0432\", \"\\u0431\\u044b\\u0442\\u044c\", \"\\u0431\\u044b\\u0442\\u044c\", \"\\u0431\\u044b\\u0442\\u044c\", \"\\u0432\\u0435\\u0440\\u043d\\u0443\\u0442\\u044c\", \"\\u0432\\u0435\\u0441\\u044c\", \"\\u0432\\u0435\\u0441\\u044c\", \"\\u0432\\u0438\\u0434\\u0435\\u0442\\u044c\", \"\\u0432\\u043e\\u0434\\u0438\\u0442\\u0435\\u043b\\u044c\", \"\\u0432\\u043e\\u0436\\u0434\\u0435\\u043d\\u0438\\u0435\", \"\\u0432\\u043e\\u0437\\u043b\\u0435\", \"\\u0432\\u043e\\u0437\\u043d\\u0430\\u0433\\u0440\\u0430\\u0436\\u0434\\u0435\\u043d\\u0438\\u0435\", \"\\u0432\\u043e\\u0437\\u0440\\u0430\\u0441\\u0442\", \"\\u0432\\u043e\\u043e\\u0431\\u0449\\u0435\", \"\\u0432\\u0440\\u0435\\u043c\\u044f\", \"\\u0432\\u0440\\u0435\\u043c\\u044f\", \"\\u0432\\u0440\\u0435\\u043c\\u044f\", \"\\u0432\\u0440\\u0435\\u043c\\u044f\", \"\\u0432\\u0447\\u0435\\u0440\\u0430\", \"\\u0432\\u044b\\u0441\\u043e\\u043a\\u0438\\u0439\", \"\\u0432\\u044b\\u0441\\u043e\\u0442\\u0430\", \"\\u0433\\u0430\\u0433\\u0430\\u0440\\u0438\\u043d\", \"\\u0433\\u043e\\u0432\\u043e\\u0440\\u0438\\u0442\\u044c\", \"\\u0433\\u043e\\u0434\", \"\\u0433\\u043e\\u0434\", \"\\u0433\\u043e\\u0434\", \"\\u0433\\u043e\\u0440\\u043e\\u0434\", \"\\u0433\\u043e\\u0440\\u043e\\u0434\", \"\\u0433\\u043e\\u0440\\u043e\\u0434\", \"\\u0433\\u043e\\u0441\\u0442\\u044c\", \"\\u0433\\u0440\\u0430\\u0444\\u0438\\u043a\", \"\\u0433\\u0440\\u0443\\u043f\\u043f\\u0430\", \"\\u0434\\u0432\\u0438\\u0436\\u0435\\u043d\\u0438\\u0435\", \"\\u0434\\u0435\\u0432\\u043e\\u0447\\u043a\\u0430\", \"\\u0434\\u0435\\u0432\\u0443\\u0448\\u043a\\u0430\", \"\\u0434\\u0435\\u043b\\u043e\", \"\\u0434\\u0435\\u043b\\u043e\", \"\\u0434\\u0435\\u043b\\u043e\", \"\\u0434\\u0435\\u043b\\u043e\", \"\\u0434\\u0435\\u043d\\u044c\", \"\\u0434\\u0435\\u043d\\u044c\", \"\\u0434\\u0438\\u0440\\u0435\\u043a\\u0442\\u043e\\u0440\", \"\\u0434\\u043e\\u0431\\u0440\\u044b\\u0439\", \"\\u0434\\u043e\\u0431\\u0440\\u044b\\u0439\", \"\\u0434\\u043e\\u043b\\u0436\\u043d\\u044b\\u0439\", \"\\u0434\\u043e\\u043b\\u0436\\u043d\\u044b\\u0439\", \"\\u0434\\u043e\\u043c\", \"\\u0434\\u043e\\u043c\", \"\\u0434\\u043e\\u043c\\u0430\\u0448\\u043d\\u0438\\u0439\", \"\\u0434\\u043e\\u043c\\u043e\\u0439\", \"\\u0434\\u043e\\u0440\\u043e\\u0433\\u043e\\u0439\", \"\\u0434\\u043e\\u0441\\u0442\\u0430\\u0432\\u043a\\u0430\", \"\\u0436\\u0434\\u0430\\u0442\\u044c\", \"\\u0436\\u0434\\u0430\\u0442\\u044c\", \"\\u0436\\u0434\\u0430\\u0442\\u044c\", \"\\u0436\\u0435\\u043b\\u0430\\u044e\\u0449\\u0438\\u0439\", \"\\u0436\\u0438\\u0442\\u0435\\u043b\\u044c\", \"\\u0436\\u0438\\u0442\\u044c\", \"\\u0436\\u0438\\u0442\\u044c\", \"\\u0437\\u0430\\u0431\\u0440\\u0430\\u0442\\u044c\", \"\\u0437\\u0430\\u0432\\u043e\\u0434\", \"\\u0437\\u0430\\u043a\\u0430\\u0437\", \"\\u0437\\u0430\\u043a\\u0430\\u0437\", \"\\u0437\\u0430\\u043d\\u0438\\u043c\\u0430\\u0442\\u044c\\u0441\\u044f\", \"\\u0437\\u0430\\u043d\\u0438\\u043c\\u0430\\u0442\\u044c\\u0441\\u044f\", \"\\u0437\\u0432\\u0430\\u0442\\u044c\", \"\\u0437\\u0432\\u043e\\u043d\\u0438\\u0442\\u044c\", \"\\u0437\\u0434\\u043e\\u0440\\u043e\\u0432\\u044b\\u0439\", \"\\u0437\\u0434\\u0440\\u0430\\u0432\\u0441\\u0442\\u0432\\u043e\\u0432\\u0430\\u0442\\u044c\", \"\\u0437\\u043d\\u0430\\u0442\\u044c\", \"\\u0437\\u043d\\u0430\\u0442\\u044c\", \"\\u0438\\u0433\\u0440\\u0430\", \"\\u0438\\u043c\\u044f\", \"\\u0438\\u043d\\u0444\\u043e\\u0440\\u043c\\u0430\\u0446\\u0438\\u044f\", \"\\u0438\\u043d\\u0444\\u043e\\u0440\\u043c\\u0430\\u0446\\u0438\\u044f\", \"\\u0438\\u0441\\u043a\\u0430\\u0442\\u044c\", \"\\u0438\\u0441\\u043a\\u0430\\u0442\\u044c\", \"\\u0438\\u0441\\u0442\\u043e\\u0440\\u0438\\u044f\", \"\\u043a\\u0430\\u0431\\u0438\\u043d\\u0435\\u0442\", \"\\u043a\\u0430\\u0436\\u0434\\u044b\\u0439\", \"\\u043a\\u0430\\u0436\\u0434\\u044b\\u0439\", \"\\u043a\\u0430\\u0436\\u0434\\u044b\\u0439\", \"\\u043a\\u0430\\u0436\\u0434\\u044b\\u0439\", \"\\u043a\\u0430\\u0440\\u0442\\u0430\", \"\\u043a\\u0430\\u0447\\u0435\\u0441\\u0442\\u0432\\u0435\\u043d\\u043d\\u044b\\u0439\", \"\\u043a\\u0430\\u0447\\u0435\\u0441\\u0442\\u0432\\u043e\", \"\\u043a\\u0432\\u0430\\u0440\\u0442\\u0438\\u0440\\u0430\", \"\\u043a\\u0432\\u0430\\u0440\\u0442\\u0438\\u0440\\u0430\", \"\\u043a\\u043b\\u0430\\u0441\\u0441\", \"\\u043a\\u043e\\u043c\\u043d\\u0430\\u0442\\u0430\", \"\\u043a\\u043e\\u043d\\u043a\\u0443\\u0440\\u0441\", \"\\u043a\\u043e\\u043d\\u0451\\u043a\", \"\\u043a\\u043e\\u0442\\u043e\\u0440\\u044b\\u0439\", \"\\u043a\\u043e\\u0442\\u043e\\u0440\\u044b\\u0439\", \"\\u043a\\u043e\\u0442\\u043e\\u0440\\u044b\\u0439\", \"\\u043a\\u043e\\u0442\\u0451\\u043d\\u043e\\u043a\", \"\\u043a\\u043e\\u0448\\u0435\\u0447\\u043a\\u0430\", \"\\u043a\\u043e\\u0448\\u043a\\u0430\", \"\\u043a\\u0440\\u0430\\u0441\\u0438\\u0432\\u044b\\u0439\", \"\\u043a\\u0440\\u0430\\u0441\\u0438\\u0432\\u044b\\u0439\", \"\\u043a\\u0443\\u043f\\u0438\\u0442\\u044c\", \"\\u043b\\u0430\\u0441\\u043a\\u043e\\u0432\\u044b\\u0439\", \"\\u043b\\u0438\\u0447\\u043d\\u044b\\u0439\", \"\\u043b\\u044e\\u0431\\u0438\\u043c\\u044b\\u0439\", \"\\u043b\\u044e\\u0431\\u0438\\u0442\\u044c\", \"\\u043c\\u0430\\u0433\\u0430\\u0437\\u0438\\u043d\", \"\\u043c\\u0430\\u043a\\u0441\", \"\\u043c\\u0430\\u043b\\u044c\\u0447\\u0438\\u043a\", \"\\u043c\\u0430\\u043c\\u0430\", \"\\u043c\\u0430\\u0448\\u0435\\u043d\\u044c\\u043a\\u0430\", \"\\u043c\\u0430\\u0448\\u0438\\u043d\\u0430\", \"\\u043c\\u0430\\u0448\\u0438\\u043d\\u0430\", \"\\u043c\\u0435\\u0441\\u044f\\u0446\", \"\\u043c\\u0435\\u0441\\u044f\\u0446\", \"\\u043c\\u0435\\u0442\\u0440\", \"\\u043c\\u0438\\u043a\\u0440\\u043e\\u0440\\u0430\\u0439\\u043e\\u043d\", \"\\u043c\\u0438\\u0440\", \"\\u043c\\u043e\\u0439\", \"\\u043c\\u043e\\u0441\\u0442\", \"\\u043c\\u043e\\u0447\\u044c\", \"\\u043c\\u043e\\u0447\\u044c\", \"\\u043c\\u044b\\u0437\\u0438\\u043d\\u0441\\u043a\\u0438\\u0439\", \"\\u043d\\u0430\\u0439\\u0442\\u0438\", \"\\u043d\\u0430\\u0441\\u0442\\u0440\\u043e\\u0435\\u043d\\u0438\\u0435\", \"\\u043d\\u0430\\u0448\", \"\\u043d\\u0430\\u0448\", \"\\u043d\\u0430\\u0448\", \"\\u043d\\u0438\\u0436\\u0435\\u0433\\u043e\\u0440\\u043e\\u0434\\u0441\\u043a\\u0438\\u0439\", \"\\u043d\\u0438\\u0436\\u0435\\u0433\\u043e\\u0440\\u043e\\u0434\\u0441\\u043a\\u0438\\u0439\", \"\\u043d\\u0438\\u0436\\u043d\\u0438\\u0439_\\u043d\\u043e\\u0432\\u0433\\u043e\\u0440\\u043e\\u0434\", \"\\u043d\\u0438\\u0436\\u043d\\u0438\\u0439_\\u043d\\u043e\\u0432\\u0433\\u043e\\u0440\\u043e\\u0434\", \"\\u043d\\u0438\\u0436\\u043d\\u0438\\u0439_\\u043d\\u043e\\u0432\\u0433\\u043e\\u0440\\u043e\\u0434\", \"\\u043d\\u0438\\u0436\\u043d\\u0438\\u0439_\\u043d\\u043e\\u0432\\u0433\\u043e\\u0440\\u043e\\u0434\", \"\\u043d\\u043e\\u043c\\u0435\\u0440\", \"\\u043d\\u043e\\u0447\\u044c\", \"\\u043d\\u043e\\u0447\\u044c\", \"\\u043d\\u0443\\u0436\\u043d\\u044b\\u0439\", \"\\u043d\\u0443\\u0436\\u043d\\u044b\\u0439\", \"\\u043e\\u0431\\u043b\\u0430\\u0441\\u0442\\u044c\", \"\\u043e\\u0431\\u043b\\u0430\\u0441\\u0442\\u044c\", \"\\u043e\\u0431\\u0440\\u0430\\u0437\\u043e\\u0432\\u0430\\u043d\\u0438\\u0435\", \"\\u043e\\u0431\\u0443\\u0447\\u0435\\u043d\\u0438\\u0435\", \"\\u043e\\u0431\\u0449\\u0435\\u0441\\u0442\\u0432\\u0435\\u043d\\u043d\\u044b\\u0439\", \"\\u043e\\u0431\\u0449\\u0438\\u0439\", \"\\u043e\\u0434\\u0438\\u043d\", \"\\u043e\\u0434\\u0438\\u043d\", \"\\u043e\\u0434\\u0438\\u043d\", \"\\u043e\\u043a\\u0440\\u0430\\u0441\", \"\\u043e\\u043f\\u043b\\u0430\\u0442\\u0430\", \"\\u043e\\u043f\\u044b\\u0442\", \"\\u043e\\u0441\\u0430\\u0433\\u043e\", \"\\u043e\\u0442\\u043b\\u0438\\u0447\\u043d\\u044b\\u0439\", \"\\u043e\\u0444\\u0438\\u0441\", \"\\u043e\\u0447\\u0435\\u043d\\u044c\", \"\\u043e\\u0447\\u0435\\u043d\\u044c\", \"\\u043e\\u0448\\u0435\\u0439\\u043d\\u0438\\u043a\", \"\\u043f\\u0430\\u0440\\u043a\", \"\\u043f\\u0435\\u043d\\u0441\\u0438\\u043e\\u043d\\u043d\\u044b\\u0439\", \"\\u043f\\u0435\\u0440\\u0435\\u0434\\u0435\\u0440\\u0436\\u043a\\u0430\", \"\\u043f\\u0435\\u0440\\u0438\\u043e\\u0434\", \"\\u043f\\u0438\\u0441\\u0430\\u0442\\u044c\", \"\\u043f\\u0438\\u0441\\u0430\\u0442\\u044c\", \"\\u043f\\u043b\\u043e\\u0449\\u0430\\u0434\\u044c\", \"\\u043f\\u043b\\u0451\\u043d\\u043a\\u0430\", \"\\u043f\\u043e\\u0431\\u0435\\u0434\\u0430\", \"\\u043f\\u043e\\u0433\\u043e\\u0434\\u0430\", \"\\u043f\\u043e\\u0434\\u0430\\u0440\\u043e\\u043a\", \"\\u043f\\u043e\\u0434\\u0430\\u0440\\u043e\\u043a\", \"\\u043f\\u043e\\u0434\\u0441\\u043a\\u0430\\u0437\\u0430\\u0442\\u044c\", \"\\u043f\\u043e\\u0437\\u0432\\u043e\\u043d\\u0438\\u0442\\u044c\", \"\\u043f\\u043e\\u0437\\u043d\\u0430\\u043a\\u043e\\u043c\\u0438\\u0442\\u044c\\u0441\\u044f\", \"\\u043f\\u043e\\u0437\\u043d\\u0430\\u043a\\u043e\\u043c\\u0438\\u0442\\u044c\\u0441\\u044f\", \"\\u043f\\u043e\\u043b\\u0438\\u0446\\u0435\\u0439\\u0441\\u043a\\u0438\\u0439\", \"\\u043f\\u043e\\u043b\\u0438\\u0446\\u0438\\u044f\", \"\\u043f\\u043e\\u043b\\u043d\\u044b\\u0439\", \"\\u043f\\u043e\\u043b\\u0443\\u0447\\u0438\\u0442\\u044c\", \"\\u043f\\u043e\\u043c\\u043e\\u0447\\u044c\", \"\\u043f\\u043e\\u043c\\u043e\\u0447\\u044c\", \"\\u043f\\u043e\\u043c\\u043e\\u0449\\u044c\", \"\\u043f\\u043e\\u043c\\u043e\\u0449\\u044c\", \"\\u043f\\u043e\\u043c\\u043e\\u0449\\u044c\", \"\\u043f\\u043e\\u043c\\u043e\\u0449\\u044c\", \"\\u043f\\u043e\\u0440\\u0430\", \"\\u043f\\u043e\\u0441\\u0442\", \"\\u043f\\u043e\\u0442\\u0435\\u0440\\u044f\\u0442\\u044c\", \"\\u043f\\u0440\\u0435\\u0434\\u043b\\u0430\\u0433\\u0430\\u0442\\u044c\", \"\\u043f\\u0440\\u0438\\u0432\\u0435\\u0442\", \"\\u043f\\u0440\\u0438\\u043d\\u044f\\u0442\\u044c\", \"\\u043f\\u0440\\u0438\\u0445\\u043e\\u0434\\u0438\\u0442\\u044c\", \"\\u043f\\u0440\\u0438\\u0445\\u043e\\u0434\\u0438\\u0442\\u044c\", \"\\u043f\\u0440\\u043e\\u0433\\u0443\\u043b\\u043a\\u0430\", \"\\u043f\\u0440\\u043e\\u0434\\u0430\\u0442\\u044c\", \"\\u043f\\u0440\\u043e\\u043f\\u0430\\u0441\\u0442\\u044c\", \"\\u043f\\u0440\\u043e\\u0441\\u044c\\u0431\\u0430\", \"\\u0440\\u0430\\u0431\\u043e\\u0442\\u0430\", \"\\u0440\\u0430\\u0431\\u043e\\u0442\\u0430\", \"\\u0440\\u0430\\u0431\\u043e\\u0442\\u0430\", \"\\u0440\\u0430\\u0431\\u043e\\u0442\\u0430\", \"\\u0440\\u0430\\u0431\\u043e\\u0442\\u0430\\u0442\\u044c\", \"\\u0440\\u0430\\u0431\\u043e\\u0442\\u0430\\u0442\\u044c\", \"\\u0440\\u0430\\u0431\\u043e\\u0442\\u0430\\u0442\\u044c\", \"\\u0440\\u0430\\u0439\\u043e\\u043d\", \"\\u0440\\u0430\\u043d\\u043d\\u0438\\u0439\", \"\\u0440\\u0435\\u0431\\u044f\\u0442\\u0430\", \"\\u0440\\u0435\\u0431\\u0451\\u043d\\u043e\\u043a\", \"\\u0440\\u0435\\u0431\\u0451\\u043d\\u043e\\u043a\", \"\\u0440\\u0435\\u0431\\u0451\\u043d\\u043e\\u043a\", \"\\u0440\\u0435\\u043c\\u043e\\u043d\\u0442\", \"\\u0440\\u0435\\u043f\\u043e\\u0441\\u0442\", \"\\u0440\\u0435\\u043f\\u043e\\u0441\\u0442\", \"\\u0440\\u0435\\u0448\\u0438\\u0442\\u044c\", \"\\u0440\\u043e\\u0434\\u0438\\u0442\\u0435\\u043b\\u044c\", \"\\u0440\\u043e\\u0441\\u0441\\u0438\\u044f\", \"\\u0440\\u0443\\u0431\\u043b\\u044c\", \"\\u0440\\u0443\\u0431\\u043b\\u044c\", \"\\u0440\\u0443\\u0431\\u043b\\u044c\", \"\\u0440\\u0443\\u043a\\u0430\", \"\\u0441\\u0430\\u043c\", \"\\u0441\\u0430\\u043c\\u044b\\u0439\", \"\\u0441\\u0430\\u043c\\u044b\\u0439\", \"\\u0441\\u0431\\u043e\\u0440\", \"\\u0441\\u0432\\u043e\\u0439\", \"\\u0441\\u0432\\u043e\\u0439\", \"\\u0441\\u0432\\u043e\\u0439\", \"\\u0441\\u0434\\u0430\\u0442\\u044c\", \"\\u0441\\u0434\\u0435\\u043b\\u0430\\u0442\\u044c\", \"\\u0441\\u0435\\u0433\\u043e\\u0434\\u043d\\u044f\", \"\\u0441\\u0435\\u043c\\u044c\\u044f\", \"\\u0441\\u043a\\u0430\\u0437\\u0430\\u0442\\u044c\", \"\\u0441\\u043a\\u0430\\u0437\\u0430\\u0442\\u044c\", \"\\u0441\\u043a\\u0438\\u0434\\u043a\\u0430\", \"\\u0441\\u043b\\u043e\\u0432\\u043e\", \"\\u0441\\u043d\\u044f\\u0442\\u044c\", \"\\u0441\\u043e\\u0431\\u0430\\u043a\\u0430\", \"\\u0441\\u043e\\u0431\\u0430\\u043a\\u0430\", \"\\u0441\\u043e\\u0432\\u0435\\u0442\\u0441\\u043a\\u0438\\u0439\", \"\\u0441\\u043e\\u043e\\u0431\\u0449\\u0435\\u043d\\u0438\\u0435\", \"\\u0441\\u043e\\u0440\\u043c\\u043e\\u0432\\u043e\", \"\\u0441\\u043e\\u0440\\u043c\\u043e\\u0432\\u0441\\u043a\\u0438\\u0439\", \"\\u0441\\u043e\\u0441\\u0442\\u043e\\u044f\\u043d\\u0438\\u0435\", \"\\u0441\\u043e\\u0442\\u0440\\u0443\\u0434\\u043d\\u0438\\u043a\", \"\\u0441\\u043f\\u043e\\u0440\\u0442\\u0438\\u0432\\u043d\\u044b\\u0439\", \"\\u0441\\u0442\\u0430\\u0442\\u044c\", \"\\u0441\\u0442\\u0430\\u0442\\u044c\", \"\\u0441\\u0442\\u0430\\u0442\\u044c\", \"\\u0441\\u0442\\u0435\\u0440\\u0438\\u043b\\u0438\\u0437\\u043e\\u0432\\u0430\\u0442\\u044c\", \"\\u0441\\u0442\\u043e\\u0438\\u043c\\u043e\\u0441\\u0442\\u044c\", \"\\u0441\\u0442\\u043e\\u043b\", \"\\u0441\\u0442\\u0440\\u0430\\u043d\\u0430\", \"\\u0441\\u0442\\u0440\\u043e\\u0438\\u0442\\u0435\\u043b\\u044c\\u0441\\u0442\\u0432\\u043e\", \"\\u0442\\u0430\\u043a\\u043e\\u0439\", \"\\u0442\\u0430\\u043a\\u043e\\u0439\", \"\\u0442\\u0430\\u043a\\u043e\\u0439\", \"\\u0442\\u0435\\u043b\\u0435\\u0444\\u043e\\u043d\", \"\\u0442\\u0440\\u0430\\u043d\\u0441\\u043f\\u043e\\u0440\\u0442\", \"\\u0442\\u0440\\u0435\\u0431\\u043e\\u0432\\u0430\\u0442\\u044c\\u0441\\u044f\", \"\\u0443\\u0431\\u0435\\u0436\\u0430\\u0442\\u044c\", \"\\u0443\\u043b\\u0438\\u0446\\u0430\", \"\\u0443\\u043b\\u0438\\u0446\\u0430\", \"\\u0443\\u0442\\u0435\\u0440\\u044f\\u0442\\u044c\", \"\\u0443\\u0442\\u0440\\u043e\", \"\\u0443\\u0447\\u0435\\u0431\\u043d\\u044b\\u0439\", \"\\u0444\\u043e\\u0442\\u043e\", \"\\u0445\\u043e\\u0434\\u0438\\u0442\\u044c\", \"\\u0445\\u043e\\u0437\\u044f\\u0438\\u043d\", \"\\u0445\\u043e\\u0437\\u044f\\u0438\\u043d\", \"\\u0445\\u043e\\u0440\\u043e\\u0448\\u0438\\u0439\", \"\\u0445\\u043e\\u0440\\u043e\\u0448\\u0438\\u0439\", \"\\u0445\\u043e\\u0442\\u0435\\u0442\\u044c\", \"\\u0445\\u043e\\u0442\\u0435\\u0442\\u044c\", \"\\u0446\\u0435\\u043d\\u0430\", \"\\u0446\\u0435\\u043d\\u0442\\u0440\", \"\\u0446\\u0435\\u043d\\u0442\\u0440\", \"\\u0447\\u0430\\u0441\", \"\\u0447\\u0435\\u043b\\u043e\\u0432\\u0435\\u043a\", \"\\u0447\\u0435\\u043b\\u043e\\u0432\\u0435\\u043a\", \"\\u0448\\u043a\\u043e\\u043b\\u0430\", \"\\u0448\\u043a\\u043e\\u043b\\u0430\", \"\\u0449\\u0435\\u043d\\u043e\\u043a\", \"\\u0449\\u0435\\u0440\\u0431\\u0438\\u043d\\u043a\\u0430\", \"\\u044d\\u0442\\u0430\\u0436\"]}, \"R\": 30, \"lambda.step\": 0.01, \"plot.opts\": {\"xlab\": \"PC1\", \"ylab\": \"PC2\"}, \"topic.order\": [3, 5, 4, 2, 1]};\n",
              "\n",
              "function LDAvis_load_lib(url, callback){\n",
              "  var s = document.createElement('script');\n",
              "  s.src = url;\n",
              "  s.async = true;\n",
              "  s.onreadystatechange = s.onload = callback;\n",
              "  s.onerror = function(){console.warn(\"failed to load library \" + url);};\n",
              "  document.getElementsByTagName(\"head\")[0].appendChild(s);\n",
              "}\n",
              "\n",
              "if(typeof(LDAvis) !== \"undefined\"){\n",
              "   // already loaded: just create the visualization\n",
              "   !function(LDAvis){\n",
              "       new LDAvis(\"#\" + \"ldavis_el1261404862317187921446900804\", ldavis_el1261404862317187921446900804_data);\n",
              "   }(LDAvis);\n",
              "}else if(typeof define === \"function\" && define.amd){\n",
              "   // require.js is available: use it to load d3/LDAvis\n",
              "   require.config({paths: {d3: \"https://cdnjs.cloudflare.com/ajax/libs/d3/3.5.5/d3.min\"}});\n",
              "   require([\"d3\"], function(d3){\n",
              "      window.d3 = d3;\n",
              "      LDAvis_load_lib(\"https://cdn.rawgit.com/bmabey/pyLDAvis/files/ldavis.v1.0.0.js\", function(){\n",
              "        new LDAvis(\"#\" + \"ldavis_el1261404862317187921446900804\", ldavis_el1261404862317187921446900804_data);\n",
              "      });\n",
              "    });\n",
              "}else{\n",
              "    // require.js not available: dynamically load d3 & LDAvis\n",
              "    LDAvis_load_lib(\"https://cdnjs.cloudflare.com/ajax/libs/d3/3.5.5/d3.min.js\", function(){\n",
              "         LDAvis_load_lib(\"https://cdn.rawgit.com/bmabey/pyLDAvis/files/ldavis.v1.0.0.js\", function(){\n",
              "                 new LDAvis(\"#\" + \"ldavis_el1261404862317187921446900804\", ldavis_el1261404862317187921446900804_data);\n",
              "            })\n",
              "         });\n",
              "}\n",
              "</script>"
            ],
            "text/plain": [
              "PreparedData(topic_coordinates=              x         y  topics  cluster       Freq\n",
              "topic                                                \n",
              "2     -0.255374  0.006310       1        1  34.318901\n",
              "4     -0.161277  0.076613       2        1  25.633282\n",
              "3      0.063866 -0.244400       3        1  19.087852\n",
              "1      0.180863  0.202959       4        1  10.949044\n",
              "0      0.171922 -0.041482       5        1  10.010922, topic_info=     Category        Freq       Term       Total  loglift  logprob\n",
              "2     Default  640.000000      найти  640.000000  30.0000  30.0000\n",
              "4570  Default  263.000000   щербинка  263.000000  29.0000  29.0000\n",
              "96    Default  527.000000      район  527.000000  28.0000  28.0000\n",
              "94    Default  665.000000        дом  665.000000  27.0000  27.0000\n",
              "3     Default  591.000000      очень  591.000000  26.0000  26.0000\n",
              "...       ...         ...        ...         ...      ...      ...\n",
              "519    Topic5   60.009750      школа  115.272774   1.6487  -5.1036\n",
              "347    Topic5   68.342331        наш  283.890869   0.8774  -4.9736\n",
              "513    Topic5   42.998333      центр   85.571236   1.6133  -5.4370\n",
              "1807   Topic5   36.673244  приходить   52.526482   1.9422  -5.5961\n",
              "417    Topic5   42.184364     работа  288.878754   0.3775  -5.4561\n",
              "\n",
              "[253 rows x 6 columns], token_table=      Topic      Freq        Term\n",
              "term                             \n",
              "2422      4  0.986218  автомобиль\n",
              "7564      5  0.975712   автошкола\n",
              "210       1  0.990375       админ\n",
              "799       1  0.991353       адрес\n",
              "1541      4  0.975029       айфон\n",
              "...     ...       ...         ...\n",
              "519       3  0.477129       школа\n",
              "519       5  0.520505       школа\n",
              "943       2  0.997005       щенок\n",
              "4570      4  0.998274    щербинка\n",
              "2046      4  0.983150        этаж\n",
              "\n",
              "[291 rows x 3 columns], R=30, lambda_step=0.01, plot_opts={'xlab': 'PC1', 'ylab': 'PC2'}, topic_order=[3, 5, 4, 2, 1])"
            ]
          },
          "metadata": {
            "tags": []
          },
          "execution_count": 165
        }
      ]
    },
    {
      "cell_type": "code",
      "metadata": {
        "id": "SJiQjoUAbPrN",
        "colab_type": "code",
        "colab": {}
      },
      "source": [
        "perplexity = lda_model.log_perplexity(corpus)"
      ],
      "execution_count": 0,
      "outputs": []
    },
    {
      "cell_type": "code",
      "metadata": {
        "id": "smQtpC3c3XYJ",
        "colab_type": "code",
        "colab": {
          "base_uri": "https://localhost:8080/",
          "height": 36
        },
        "outputId": "ce63da8a-d3c7-4ebc-f0eb-2640438859f1"
      },
      "source": [
        "perplexity"
      ],
      "execution_count": 167,
      "outputs": [
        {
          "output_type": "execute_result",
          "data": {
            "text/plain": [
              "-8.423695744282794"
            ]
          },
          "metadata": {
            "tags": []
          },
          "execution_count": 167
        }
      ]
    },
    {
      "cell_type": "code",
      "metadata": {
        "id": "44QlDDHl3kpx",
        "colab_type": "code",
        "colab": {}
      },
      "source": [
        "coherence_model_lda = CoherenceModel(model=lda_model, texts= composed.values(), dictionary=id2word, coherence='c_v')"
      ],
      "execution_count": 0,
      "outputs": []
    },
    {
      "cell_type": "code",
      "metadata": {
        "id": "w--zvqa43pzR",
        "colab_type": "code",
        "colab": {}
      },
      "source": [
        "coherence_lda = coherence_model_lda.get_coherence()"
      ],
      "execution_count": 0,
      "outputs": []
    },
    {
      "cell_type": "code",
      "metadata": {
        "id": "bjwoENzE4P93",
        "colab_type": "code",
        "colab": {
          "base_uri": "https://localhost:8080/",
          "height": 36
        },
        "outputId": "58f203ec-d514-46dc-98f4-8ed357d3968b"
      },
      "source": [
        "coherence_lda"
      ],
      "execution_count": 171,
      "outputs": [
        {
          "output_type": "execute_result",
          "data": {
            "text/plain": [
              "0.37855030056644534"
            ]
          },
          "metadata": {
            "tags": []
          },
          "execution_count": 171
        }
      ]
    },
    {
      "cell_type": "markdown",
      "metadata": {
        "id": "j29C_DFSPLty",
        "colab_type": "text"
      },
      "source": [
        "# LDAmallet"
      ]
    },
    {
      "cell_type": "code",
      "metadata": {
        "id": "aGJq0HEF4RC6",
        "colab_type": "code",
        "colab": {
          "base_uri": "https://localhost:8080/",
          "height": 221
        },
        "outputId": "5d4c370f-250a-4314-ce5f-a04c76177b93"
      },
      "source": [
        " ! wget http://mallet.cs.umass.edu/dist/mallet-2.0.8.zip"
      ],
      "execution_count": 206,
      "outputs": [
        {
          "output_type": "stream",
          "text": [
            "--2020-02-17 16:54:40--  http://mallet.cs.umass.edu/dist/mallet-2.0.8.zip\n",
            "Resolving mallet.cs.umass.edu (mallet.cs.umass.edu)... 128.119.246.70\n",
            "Connecting to mallet.cs.umass.edu (mallet.cs.umass.edu)|128.119.246.70|:80... connected.\n",
            "HTTP request sent, awaiting response... 200 OK\n",
            "Length: 16184794 (15M) [application/zip]\n",
            "Saving to: ‘mallet-2.0.8.zip’\n",
            "\n",
            "mallet-2.0.8.zip    100%[===================>]  15.43M  4.65MB/s    in 3.3s    \n",
            "\n",
            "2020-02-17 16:54:44 (4.65 MB/s) - ‘mallet-2.0.8.zip’ saved [16184794/16184794]\n",
            "\n"
          ],
          "name": "stdout"
        }
      ]
    },
    {
      "cell_type": "code",
      "metadata": {
        "id": "SWG--38MErqS",
        "colab_type": "code",
        "colab": {}
      },
      "source": [
        "! unzip mallet-2.0.8.zip"
      ],
      "execution_count": 0,
      "outputs": []
    },
    {
      "cell_type": "code",
      "metadata": {
        "id": "6IkLbfTwFAq-",
        "colab_type": "code",
        "colab": {}
      },
      "source": [
        "mallet_path = 'mallet-2.0.8/bin/mallet' "
      ],
      "execution_count": 0,
      "outputs": []
    },
    {
      "cell_type": "code",
      "metadata": {
        "id": "37nxSgo4FJXL",
        "colab_type": "code",
        "colab": {
          "base_uri": "https://localhost:8080/",
          "height": 74
        },
        "outputId": "bb9d98eb-3e72-4a16-cdbc-f3c9fd119f47"
      },
      "source": [
        "ldamallet = gensim.models.wrappers.LdaMallet(mallet_path, corpus=corpus, num_topics=5, id2word=id2word)"
      ],
      "execution_count": 229,
      "outputs": [
        {
          "output_type": "stream",
          "text": [
            "/usr/local/lib/python3.6/dist-packages/smart_open/smart_open_lib.py:402: UserWarning: This function is deprecated, use smart_open.open instead. See the migration notes for details: https://github.com/RaRe-Technologies/smart_open/blob/master/README.rst#migrating-to-the-new-open-function\n",
            "  'See the migration notes for details: %s' % _MIGRATION_NOTES_URL\n"
          ],
          "name": "stderr"
        }
      ]
    },
    {
      "cell_type": "code",
      "metadata": {
        "id": "SXQqiW3mFVyu",
        "colab_type": "code",
        "colab": {
          "base_uri": "https://localhost:8080/",
          "height": 1000
        },
        "outputId": "10c088d9-b2da-4f74-9b52-31ff28dfff16"
      },
      "source": [
        "ldamallet.show_topics(formatted=False)"
      ],
      "execution_count": 230,
      "outputs": [
        {
          "output_type": "execute_result",
          "data": {
            "text/plain": [
              "[(0,\n",
              "  [('найти', 0.04840440553515956),\n",
              "   ('район', 0.0225360067777464),\n",
              "   ('улица', 0.021914713357808528),\n",
              "   ('просьба', 0.013160124258683988),\n",
              "   ('видеть', 0.012143462298785653),\n",
              "   ('телефон', 0.011578650098842135),\n",
              "   ('знать', 0.011522168878847784),\n",
              "   ('сегодня', 0.009714769839028524),\n",
              "   ('потерять', 0.009714769839028524),\n",
              "   ('имя', 0.009545326179045467)]),\n",
              " (1,\n",
              "  [('помощь', 0.015399830460582086),\n",
              "   ('ребёнок', 0.015352736177828012),\n",
              "   ('наш', 0.014410850522746538),\n",
              "   ('рубль', 0.012950927757370256),\n",
              "   ('группа', 0.00993689366110954),\n",
              "   ('помочь', 0.00979561081284732),\n",
              "   ('ваш', 0.0087595365922577),\n",
              "   ('карта', 0.008712442309503627),\n",
              "   ('год', 0.008429876612979184),\n",
              "   ('друг', 0.008194405199208816)]),\n",
              " (2,\n",
              "  [('год', 0.029700552000390797),\n",
              "   ('который', 0.01362903619754775),\n",
              "   ('один', 0.011284255776464266),\n",
              "   ('нижний_новгород', 0.01089345903961702),\n",
              "   ('сормово', 0.010698060671193395),\n",
              "   ('место', 0.009134873723804407),\n",
              "   ('нижегородский', 0.009037174539592595),\n",
              "   ('сормовский', 0.00884177617116897),\n",
              "   ('время', 0.008157881881686289),\n",
              "   ('работа', 0.007767085144839041)]),\n",
              " (3,\n",
              "  [('весь', 0.02399733362959671),\n",
              "   ('писать', 0.022441950894345072),\n",
              "   ('день', 0.016553716253749583),\n",
              "   ('анон', 0.01649816687034774),\n",
              "   ('девушка', 0.013054105099433397),\n",
              "   ('привет', 0.011498722364181757),\n",
              "   ('хороший', 0.009332296411509832),\n",
              "   ('анонимно', 0.008887901344295079),\n",
              "   ('админ', 0.00877680257749139),\n",
              "   ('цена', 0.008276858126874792)]),\n",
              " (4,\n",
              "  [('очень', 0.036488456293788496),\n",
              "   ('дом', 0.03329101424742559),\n",
              "   ('искать', 0.02374570931490102),\n",
              "   ('добрый', 0.019137631071613297),\n",
              "   ('собака', 0.01636337988432783),\n",
              "   ('хозяин', 0.015658061785865426),\n",
              "   ('человек', 0.01495274368740302),\n",
              "   ('девочка', 0.014764658861146376),\n",
              "   ('месяц', 0.013165937837964922),\n",
              "   ('возраст', 0.010955941129449382)])]"
            ]
          },
          "metadata": {
            "tags": []
          },
          "execution_count": 230
        }
      ]
    },
    {
      "cell_type": "code",
      "metadata": {
        "id": "-9ujg97YFt2H",
        "colab_type": "code",
        "colab": {}
      },
      "source": [
        "coherence_model_ldamallet = CoherenceModel(model=ldamallet, texts=composed.values(), dictionary=id2word, coherence='c_v')"
      ],
      "execution_count": 0,
      "outputs": []
    },
    {
      "cell_type": "code",
      "metadata": {
        "id": "2CxLLy9VGDXs",
        "colab_type": "code",
        "colab": {}
      },
      "source": [
        "coherence_ldamallet = coherence_model_ldamallet.get_coherence()"
      ],
      "execution_count": 0,
      "outputs": []
    },
    {
      "cell_type": "code",
      "metadata": {
        "id": "UUm4wDXyGG4i",
        "colab_type": "code",
        "colab": {
          "base_uri": "https://localhost:8080/",
          "height": 36
        },
        "outputId": "dfaff029-3899-481d-ca6c-6ab766454251"
      },
      "source": [
        "coherence_ldamallet"
      ],
      "execution_count": 226,
      "outputs": [
        {
          "output_type": "execute_result",
          "data": {
            "text/plain": [
              "0.44070001030870587"
            ]
          },
          "metadata": {
            "tags": []
          },
          "execution_count": 226
        }
      ]
    },
    {
      "cell_type": "code",
      "metadata": {
        "id": "zrqGgK-HBQkj",
        "colab_type": "code",
        "colab": {
          "base_uri": "https://localhost:8080/",
          "height": 420
        },
        "outputId": "fc63e06e-f2b3-4b10-a24f-f35465b32e80"
      },
      "source": [
        "import pandas as pd\n",
        "def format_topics_sentences(ldamodel=lda_model, corpus=corpus, texts=data):\n",
        "    # Init output\n",
        "    sent_topics_df = pd.DataFrame()\n",
        "\n",
        "    # Get main topic in each document\n",
        "    for i, row in enumerate(ldamodel[corpus]):\n",
        "        row = sorted(row, key=lambda x: (x[1]), reverse=True)\n",
        "        # Get the Dominant topic, Perc Contribution and Keywords for each document\n",
        "        for j, (topic_num, prop_topic) in enumerate(row):\n",
        "            if j == 0:  # => dominant topic\n",
        "                wp = ldamodel.show_topic(topic_num)\n",
        "                topic_keywords = \", \".join([word for word, prop in wp])\n",
        "                sent_topics_df = sent_topics_df.append(pd.Series([int(topic_num), round(prop_topic,4), topic_keywords]), ignore_index=True)\n",
        "            else:\n",
        "                break\n",
        "    sent_topics_df.columns = ['Dominant_Topic', 'Perc_Contribution', 'Topic_Keywords']\n",
        "\n",
        "    # Add original text to the end of the output\n",
        "    contents = pd.Series(texts)\n",
        "    sent_topics_df = pd.concat([sent_topics_df, contents], axis=1)\n",
        "    return(sent_topics_df)\n",
        "\n",
        "\n",
        "df_topic_sents_keywords = format_topics_sentences(ldamodel=ldamallet, corpus=corpus, texts=list(composed.values()))\n",
        "\n",
        "# Format\n",
        "df_dominant_topic = df_topic_sents_keywords.reset_index()\n",
        "df_dominant_topic.columns = ['Document_No', 'Dominant_Topic', 'Topic_Perc_Contrib', 'Keywords', 'Text']\n",
        "\n",
        "# Show\n",
        "df_dominant_topic.head(10)"
      ],
      "execution_count": 236,
      "outputs": [
        {
          "output_type": "stream",
          "text": [
            "/usr/local/lib/python3.6/dist-packages/smart_open/smart_open_lib.py:402: UserWarning: This function is deprecated, use smart_open.open instead. See the migration notes for details: https://github.com/RaRe-Technologies/smart_open/blob/master/README.rst#migrating-to-the-new-open-function\n",
            "  'See the migration notes for details: %s' % _MIGRATION_NOTES_URL\n"
          ],
          "name": "stderr"
        },
        {
          "output_type": "execute_result",
          "data": {
            "text/html": [
              "<div>\n",
              "<style scoped>\n",
              "    .dataframe tbody tr th:only-of-type {\n",
              "        vertical-align: middle;\n",
              "    }\n",
              "\n",
              "    .dataframe tbody tr th {\n",
              "        vertical-align: top;\n",
              "    }\n",
              "\n",
              "    .dataframe thead th {\n",
              "        text-align: right;\n",
              "    }\n",
              "</style>\n",
              "<table border=\"1\" class=\"dataframe\">\n",
              "  <thead>\n",
              "    <tr style=\"text-align: right;\">\n",
              "      <th></th>\n",
              "      <th>Document_No</th>\n",
              "      <th>Dominant_Topic</th>\n",
              "      <th>Topic_Perc_Contrib</th>\n",
              "      <th>Keywords</th>\n",
              "      <th>Text</th>\n",
              "    </tr>\n",
              "  </thead>\n",
              "  <tbody>\n",
              "    <tr>\n",
              "      <th>0</th>\n",
              "      <td>0</td>\n",
              "      <td>0.0</td>\n",
              "      <td>0.2440</td>\n",
              "      <td>найти, район, улица, просьба, видеть, телефон,...</td>\n",
              "      <td>[найти, серёжка, вернуть, очень, дорога, память]</td>\n",
              "    </tr>\n",
              "    <tr>\n",
              "      <th>1</th>\n",
              "      <td>1</td>\n",
              "      <td>0.0</td>\n",
              "      <td>0.2528</td>\n",
              "      <td>найти, район, улица, просьба, видеть, телефон,...</td>\n",
              "      <td>[искать, девушка, который, ехать, маршрутка, с...</td>\n",
              "    </tr>\n",
              "    <tr>\n",
              "      <th>2</th>\n",
              "      <td>2</td>\n",
              "      <td>4.0</td>\n",
              "      <td>0.3376</td>\n",
              "      <td>очень, дом, искать, добрый, собака, хозяин, че...</td>\n",
              "      <td>[ребята, распространить, запись, отдать, добры...</td>\n",
              "    </tr>\n",
              "    <tr>\n",
              "      <th>3</th>\n",
              "      <td>3</td>\n",
              "      <td>0.0</td>\n",
              "      <td>0.2561</td>\n",
              "      <td>найти, район, улица, просьба, видеть, телефон,...</td>\n",
              "      <td>[найти, карта, имя, сергей, колебакина, автобу...</td>\n",
              "    </tr>\n",
              "    <tr>\n",
              "      <th>4</th>\n",
              "      <td>4</td>\n",
              "      <td>4.0</td>\n",
              "      <td>0.2769</td>\n",
              "      <td>очень, дом, искать, добрый, собака, хозяин, че...</td>\n",
              "      <td>[чёрный, красавчик, прибиться, космический, чи...</td>\n",
              "    </tr>\n",
              "    <tr>\n",
              "      <th>5</th>\n",
              "      <td>5</td>\n",
              "      <td>0.0</td>\n",
              "      <td>0.2113</td>\n",
              "      <td>найти, район, улица, просьба, видеть, телефон,...</td>\n",
              "      <td>[микрорайон]</td>\n",
              "    </tr>\n",
              "    <tr>\n",
              "      <th>6</th>\n",
              "      <td>6</td>\n",
              "      <td>0.0</td>\n",
              "      <td>0.2542</td>\n",
              "      <td>найти, район, улица, просьба, видеть, телефон,...</td>\n",
              "      <td>[пропасть, бенгальский, кошка, улица, лесков, ...</td>\n",
              "    </tr>\n",
              "    <tr>\n",
              "      <th>7</th>\n",
              "      <td>7</td>\n",
              "      <td>4.0</td>\n",
              "      <td>0.3427</td>\n",
              "      <td>очень, дом, искать, добрый, собака, хозяин, че...</td>\n",
              "      <td>[каждый, малыш, искать, свой, хозяин, малыш, м...</td>\n",
              "    </tr>\n",
              "    <tr>\n",
              "      <th>8</th>\n",
              "      <td>8</td>\n",
              "      <td>4.0</td>\n",
              "      <td>0.2264</td>\n",
              "      <td>очень, дом, искать, добрый, собака, хозяин, че...</td>\n",
              "      <td>[красивый, одинокий, девушка]</td>\n",
              "    </tr>\n",
              "    <tr>\n",
              "      <th>9</th>\n",
              "      <td>9</td>\n",
              "      <td>0.0</td>\n",
              "      <td>0.2437</td>\n",
              "      <td>найти, район, улица, просьба, видеть, телефон,...</td>\n",
              "      <td>[искать, котик, гулять, район, дом, южный, бул...</td>\n",
              "    </tr>\n",
              "  </tbody>\n",
              "</table>\n",
              "</div>"
            ],
            "text/plain": [
              "   Document_No  ...                                               Text\n",
              "0            0  ...   [найти, серёжка, вернуть, очень, дорога, память]\n",
              "1            1  ...  [искать, девушка, который, ехать, маршрутка, с...\n",
              "2            2  ...  [ребята, распространить, запись, отдать, добры...\n",
              "3            3  ...  [найти, карта, имя, сергей, колебакина, автобу...\n",
              "4            4  ...  [чёрный, красавчик, прибиться, космический, чи...\n",
              "5            5  ...                                       [микрорайон]\n",
              "6            6  ...  [пропасть, бенгальский, кошка, улица, лесков, ...\n",
              "7            7  ...  [каждый, малыш, искать, свой, хозяин, малыш, м...\n",
              "8            8  ...                      [красивый, одинокий, девушка]\n",
              "9            9  ...  [искать, котик, гулять, район, дом, южный, бул...\n",
              "\n",
              "[10 rows x 5 columns]"
            ]
          },
          "metadata": {
            "tags": []
          },
          "execution_count": 236
        }
      ]
    }
  ]
}